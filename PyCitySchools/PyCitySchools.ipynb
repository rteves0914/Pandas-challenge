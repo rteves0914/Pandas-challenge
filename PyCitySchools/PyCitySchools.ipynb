{
 "cells": [
  {
   "cell_type": "code",
   "execution_count": 3,
   "metadata": {},
   "outputs": [
    {
     "output_type": "execute_result",
     "data": {
      "text/plain": [
       "   Student ID       student_name gender grade        school_name  \\\n",
       "0           0       Paul Bradley      M   9th  Huang High School   \n",
       "1           1       Victor Smith      M  12th  Huang High School   \n",
       "2           2    Kevin Rodriguez      M  12th  Huang High School   \n",
       "3           3  Dr. Richard Scott      M  12th  Huang High School   \n",
       "4           4         Bonnie Ray      F   9th  Huang High School   \n",
       "\n",
       "   reading_score  math_score  \n",
       "0             66          79  \n",
       "1             94          61  \n",
       "2             90          60  \n",
       "3             67          58  \n",
       "4             97          84  "
      ],
      "text/html": "<div>\n<style scoped>\n    .dataframe tbody tr th:only-of-type {\n        vertical-align: middle;\n    }\n\n    .dataframe tbody tr th {\n        vertical-align: top;\n    }\n\n    .dataframe thead th {\n        text-align: right;\n    }\n</style>\n<table border=\"1\" class=\"dataframe\">\n  <thead>\n    <tr style=\"text-align: right;\">\n      <th></th>\n      <th>Student ID</th>\n      <th>student_name</th>\n      <th>gender</th>\n      <th>grade</th>\n      <th>school_name</th>\n      <th>reading_score</th>\n      <th>math_score</th>\n    </tr>\n  </thead>\n  <tbody>\n    <tr>\n      <th>0</th>\n      <td>0</td>\n      <td>Paul Bradley</td>\n      <td>M</td>\n      <td>9th</td>\n      <td>Huang High School</td>\n      <td>66</td>\n      <td>79</td>\n    </tr>\n    <tr>\n      <th>1</th>\n      <td>1</td>\n      <td>Victor Smith</td>\n      <td>M</td>\n      <td>12th</td>\n      <td>Huang High School</td>\n      <td>94</td>\n      <td>61</td>\n    </tr>\n    <tr>\n      <th>2</th>\n      <td>2</td>\n      <td>Kevin Rodriguez</td>\n      <td>M</td>\n      <td>12th</td>\n      <td>Huang High School</td>\n      <td>90</td>\n      <td>60</td>\n    </tr>\n    <tr>\n      <th>3</th>\n      <td>3</td>\n      <td>Dr. Richard Scott</td>\n      <td>M</td>\n      <td>12th</td>\n      <td>Huang High School</td>\n      <td>67</td>\n      <td>58</td>\n    </tr>\n    <tr>\n      <th>4</th>\n      <td>4</td>\n      <td>Bonnie Ray</td>\n      <td>F</td>\n      <td>9th</td>\n      <td>Huang High School</td>\n      <td>97</td>\n      <td>84</td>\n    </tr>\n  </tbody>\n</table>\n</div>"
     },
     "metadata": {},
     "execution_count": 3
    }
   ],
   "source": [
    "# Dependencies and Setup\n",
    "import pandas as pd\n",
    "\n",
    "# File to Load (Create the path)\n",
    "school_csv = \"schools_complete.csv\"\n",
    "student_csv = \"students_complete.csv\"\n",
    "\n",
    "# Read School and Student Data File and store into Pandas DataFrames\n",
    "school_data_df = pd.read_csv(school_csv)\n",
    "student_data_df = pd.read_csv(student_csv)\n",
    "\n",
    "# Print out each of the csv files for viewing to analyze\n",
    "student_data_df.head()"
   ]
  },
  {
   "cell_type": "code",
   "execution_count": 4,
   "metadata": {},
   "outputs": [
    {
     "output_type": "execute_result",
     "data": {
      "text/plain": [
       "   School ID            school_name      type  size   budget\n",
       "0          0      Huang High School  District  2917  1910635\n",
       "1          1   Figueroa High School  District  2949  1884411\n",
       "2          2    Shelton High School   Charter  1761  1056600\n",
       "3          3  Hernandez High School  District  4635  3022020\n",
       "4          4    Griffin High School   Charter  1468   917500"
      ],
      "text/html": "<div>\n<style scoped>\n    .dataframe tbody tr th:only-of-type {\n        vertical-align: middle;\n    }\n\n    .dataframe tbody tr th {\n        vertical-align: top;\n    }\n\n    .dataframe thead th {\n        text-align: right;\n    }\n</style>\n<table border=\"1\" class=\"dataframe\">\n  <thead>\n    <tr style=\"text-align: right;\">\n      <th></th>\n      <th>School ID</th>\n      <th>school_name</th>\n      <th>type</th>\n      <th>size</th>\n      <th>budget</th>\n    </tr>\n  </thead>\n  <tbody>\n    <tr>\n      <th>0</th>\n      <td>0</td>\n      <td>Huang High School</td>\n      <td>District</td>\n      <td>2917</td>\n      <td>1910635</td>\n    </tr>\n    <tr>\n      <th>1</th>\n      <td>1</td>\n      <td>Figueroa High School</td>\n      <td>District</td>\n      <td>2949</td>\n      <td>1884411</td>\n    </tr>\n    <tr>\n      <th>2</th>\n      <td>2</td>\n      <td>Shelton High School</td>\n      <td>Charter</td>\n      <td>1761</td>\n      <td>1056600</td>\n    </tr>\n    <tr>\n      <th>3</th>\n      <td>3</td>\n      <td>Hernandez High School</td>\n      <td>District</td>\n      <td>4635</td>\n      <td>3022020</td>\n    </tr>\n    <tr>\n      <th>4</th>\n      <td>4</td>\n      <td>Griffin High School</td>\n      <td>Charter</td>\n      <td>1468</td>\n      <td>917500</td>\n    </tr>\n  </tbody>\n</table>\n</div>"
     },
     "metadata": {},
     "execution_count": 4
    }
   ],
   "source": [
    "# Print out each of the csv files for viewing to analyze\n",
    "school_data_df.head()"
   ]
  },
  {
   "cell_type": "code",
   "execution_count": 5,
   "metadata": {},
   "outputs": [
    {
     "output_type": "execute_result",
     "data": {
      "text/plain": [
       "       Student ID       student_name gender grade         school_name  \\\n",
       "0               0       Paul Bradley      M   9th   Huang High School   \n",
       "1               1       Victor Smith      M  12th   Huang High School   \n",
       "2               2    Kevin Rodriguez      M  12th   Huang High School   \n",
       "3               3  Dr. Richard Scott      M  12th   Huang High School   \n",
       "4               4         Bonnie Ray      F   9th   Huang High School   \n",
       "...           ...                ...    ...   ...                 ...   \n",
       "39165       39165       Donna Howard      F  12th  Thomas High School   \n",
       "39166       39166          Dawn Bell      F  10th  Thomas High School   \n",
       "39167       39167     Rebecca Tanner      F   9th  Thomas High School   \n",
       "39168       39168       Desiree Kidd      F  10th  Thomas High School   \n",
       "39169       39169    Carolyn Jackson      F  11th  Thomas High School   \n",
       "\n",
       "       reading_score  math_score  School ID      type  size   budget  \n",
       "0                 66          79          0  District  2917  1910635  \n",
       "1                 94          61          0  District  2917  1910635  \n",
       "2                 90          60          0  District  2917  1910635  \n",
       "3                 67          58          0  District  2917  1910635  \n",
       "4                 97          84          0  District  2917  1910635  \n",
       "...              ...         ...        ...       ...   ...      ...  \n",
       "39165             99          90         14   Charter  1635  1043130  \n",
       "39166             95          70         14   Charter  1635  1043130  \n",
       "39167             73          84         14   Charter  1635  1043130  \n",
       "39168             99          90         14   Charter  1635  1043130  \n",
       "39169             95          75         14   Charter  1635  1043130  \n",
       "\n",
       "[39170 rows x 11 columns]"
      ],
      "text/html": "<div>\n<style scoped>\n    .dataframe tbody tr th:only-of-type {\n        vertical-align: middle;\n    }\n\n    .dataframe tbody tr th {\n        vertical-align: top;\n    }\n\n    .dataframe thead th {\n        text-align: right;\n    }\n</style>\n<table border=\"1\" class=\"dataframe\">\n  <thead>\n    <tr style=\"text-align: right;\">\n      <th></th>\n      <th>Student ID</th>\n      <th>student_name</th>\n      <th>gender</th>\n      <th>grade</th>\n      <th>school_name</th>\n      <th>reading_score</th>\n      <th>math_score</th>\n      <th>School ID</th>\n      <th>type</th>\n      <th>size</th>\n      <th>budget</th>\n    </tr>\n  </thead>\n  <tbody>\n    <tr>\n      <th>0</th>\n      <td>0</td>\n      <td>Paul Bradley</td>\n      <td>M</td>\n      <td>9th</td>\n      <td>Huang High School</td>\n      <td>66</td>\n      <td>79</td>\n      <td>0</td>\n      <td>District</td>\n      <td>2917</td>\n      <td>1910635</td>\n    </tr>\n    <tr>\n      <th>1</th>\n      <td>1</td>\n      <td>Victor Smith</td>\n      <td>M</td>\n      <td>12th</td>\n      <td>Huang High School</td>\n      <td>94</td>\n      <td>61</td>\n      <td>0</td>\n      <td>District</td>\n      <td>2917</td>\n      <td>1910635</td>\n    </tr>\n    <tr>\n      <th>2</th>\n      <td>2</td>\n      <td>Kevin Rodriguez</td>\n      <td>M</td>\n      <td>12th</td>\n      <td>Huang High School</td>\n      <td>90</td>\n      <td>60</td>\n      <td>0</td>\n      <td>District</td>\n      <td>2917</td>\n      <td>1910635</td>\n    </tr>\n    <tr>\n      <th>3</th>\n      <td>3</td>\n      <td>Dr. Richard Scott</td>\n      <td>M</td>\n      <td>12th</td>\n      <td>Huang High School</td>\n      <td>67</td>\n      <td>58</td>\n      <td>0</td>\n      <td>District</td>\n      <td>2917</td>\n      <td>1910635</td>\n    </tr>\n    <tr>\n      <th>4</th>\n      <td>4</td>\n      <td>Bonnie Ray</td>\n      <td>F</td>\n      <td>9th</td>\n      <td>Huang High School</td>\n      <td>97</td>\n      <td>84</td>\n      <td>0</td>\n      <td>District</td>\n      <td>2917</td>\n      <td>1910635</td>\n    </tr>\n    <tr>\n      <th>...</th>\n      <td>...</td>\n      <td>...</td>\n      <td>...</td>\n      <td>...</td>\n      <td>...</td>\n      <td>...</td>\n      <td>...</td>\n      <td>...</td>\n      <td>...</td>\n      <td>...</td>\n      <td>...</td>\n    </tr>\n    <tr>\n      <th>39165</th>\n      <td>39165</td>\n      <td>Donna Howard</td>\n      <td>F</td>\n      <td>12th</td>\n      <td>Thomas High School</td>\n      <td>99</td>\n      <td>90</td>\n      <td>14</td>\n      <td>Charter</td>\n      <td>1635</td>\n      <td>1043130</td>\n    </tr>\n    <tr>\n      <th>39166</th>\n      <td>39166</td>\n      <td>Dawn Bell</td>\n      <td>F</td>\n      <td>10th</td>\n      <td>Thomas High School</td>\n      <td>95</td>\n      <td>70</td>\n      <td>14</td>\n      <td>Charter</td>\n      <td>1635</td>\n      <td>1043130</td>\n    </tr>\n    <tr>\n      <th>39167</th>\n      <td>39167</td>\n      <td>Rebecca Tanner</td>\n      <td>F</td>\n      <td>9th</td>\n      <td>Thomas High School</td>\n      <td>73</td>\n      <td>84</td>\n      <td>14</td>\n      <td>Charter</td>\n      <td>1635</td>\n      <td>1043130</td>\n    </tr>\n    <tr>\n      <th>39168</th>\n      <td>39168</td>\n      <td>Desiree Kidd</td>\n      <td>F</td>\n      <td>10th</td>\n      <td>Thomas High School</td>\n      <td>99</td>\n      <td>90</td>\n      <td>14</td>\n      <td>Charter</td>\n      <td>1635</td>\n      <td>1043130</td>\n    </tr>\n    <tr>\n      <th>39169</th>\n      <td>39169</td>\n      <td>Carolyn Jackson</td>\n      <td>F</td>\n      <td>11th</td>\n      <td>Thomas High School</td>\n      <td>95</td>\n      <td>75</td>\n      <td>14</td>\n      <td>Charter</td>\n      <td>1635</td>\n      <td>1043130</td>\n    </tr>\n  </tbody>\n</table>\n<p>39170 rows × 11 columns</p>\n</div>"
     },
     "metadata": {},
     "execution_count": 5
    }
   ],
   "source": [
    "# Combine the data into a single dataset.  \n",
    "school_data_complete_df = pd.merge(student_data_df, school_data_df, how=\"left\", on=[\"school_name\"])\n",
    "school_data_complete_df"
   ]
  },
  {
   "cell_type": "code",
   "execution_count": 6,
   "metadata": {},
   "outputs": [
    {
     "output_type": "execute_result",
     "data": {
      "text/plain": [
       "   Total Schools Total Students    Total Budget Average Math Score  \\\n",
       "0             15         39,170  $24,649,428.00           78.98537   \n",
       "\n",
       "  Average Reading Score % Passed Math % Passed Reading % Passed Both  \n",
       "0              81.87784     74.980853        85.805463     65.172326  "
      ],
      "text/html": "<div>\n<style scoped>\n    .dataframe tbody tr th:only-of-type {\n        vertical-align: middle;\n    }\n\n    .dataframe tbody tr th {\n        vertical-align: top;\n    }\n\n    .dataframe thead th {\n        text-align: right;\n    }\n</style>\n<table border=\"1\" class=\"dataframe\">\n  <thead>\n    <tr style=\"text-align: right;\">\n      <th></th>\n      <th>Total Schools</th>\n      <th>Total Students</th>\n      <th>Total Budget</th>\n      <th>Average Math Score</th>\n      <th>Average Reading Score</th>\n      <th>% Passed Math</th>\n      <th>% Passed Reading</th>\n      <th>% Passed Both</th>\n    </tr>\n  </thead>\n  <tbody>\n    <tr>\n      <th>0</th>\n      <td>15</td>\n      <td>39,170</td>\n      <td>$24,649,428.00</td>\n      <td>78.98537</td>\n      <td>81.87784</td>\n      <td>74.980853</td>\n      <td>85.805463</td>\n      <td>65.172326</td>\n    </tr>\n  </tbody>\n</table>\n</div>"
     },
     "metadata": {},
     "execution_count": 6
    }
   ],
   "source": [
    "total_students = school_data_complete_df[\"student_name\"].count()\n",
    "total_schools = school_data_df[\"school_name\"].count()\n",
    "total_budget = school_data_df[\"budget\"].sum()\n",
    "avg_math = student_data_df[\"math_score\"].mean()\n",
    "avg_read = student_data_df[\"reading_score\"].mean()\n",
    "\n",
    "# Use loc to find how many students passed math and reading and both\n",
    "math_pass = (school_data_complete_df.loc[school_data_complete_df[\"math_score\"] >= 70, :])\n",
    "count_math = math_pass[\"Student ID\"].count()\n",
    "\n",
    "read_pass = (school_data_complete_df.loc[school_data_complete_df[\"reading_score\"] >= 70, :])\n",
    "count_read = read_pass[\"Student ID\"].count()\n",
    "\n",
    "both_pass = (school_data_complete_df.loc[(school_data_complete_df[\"math_score\"] >= 70) & (school_data_complete_df[\"reading_score\"] >= 70), :])\n",
    "count_both = both_pass [\"Student ID\"].count()\n",
    "\n",
    "# Now calculate the percentage of students that passed math/reading/both\n",
    "pct_math = (count_math / total_students) * 100\n",
    "pct_read = (count_read / total_students) * 100\n",
    "pct_both = (count_both / total_students) * 100\n",
    "\n",
    "#Print the summary results in a DataFrame using a summary dictionary\n",
    "summary_dicts = [{\"Total Schools\" : total_schools, \n",
    "                 \"Total Students\" : total_students,\n",
    "                 \"Total Budget\" : total_budget,\n",
    "                 \"Average Math Score\" : avg_math,\n",
    "                 \"Average Reading Score\" : avg_read,\n",
    "                 \"% Passed Math\" : pct_math,\n",
    "                 \"% Passed Reading\" : pct_read,\n",
    "                 \"% Passed Both\" : pct_both}]\n",
    "summary_df = pd.DataFrame(summary_dicts)\n",
    "\n",
    "# Format the Data Frame\n",
    "summary_df[\"Total Students\"] = summary_df[\"Total Students\"].map(\"{:,}\".format)\n",
    "summary_df[\"Total Budget\"] = summary_df[\"Total Budget\"].map(\"${:,.2f}\".format)\n",
    "summary_df[\"Average Math Score\"] = summary_df[\"Average Math Score\"].map(\"{:.5f}\".format)\n",
    "summary_df[\"Average Reading Score\"] = summary_df[\"Average Reading Score\"].map(\"{:.5f}\".format)\n",
    "summary_df[\"% Passed Math\"] = summary_df[\"% Passed Math\"].map(\"{:.8}\".format)\n",
    "summary_df[\"% Passed Reading\"] = summary_df[\"% Passed Reading\"].map(\"{:.8}\".format)\n",
    "summary_df[\"% Passed Both\"] = summary_df[\"% Passed Both\"].map(\"{:.8}\".format)\n",
    "summary_df"
   ]
  },
  {
   "cell_type": "code",
   "execution_count": 7,
   "metadata": {},
   "outputs": [
    {
     "output_type": "execute_result",
     "data": {
      "text/plain": [
       "                      School Type  Total Students Total School Budget  \\\n",
       "school_name                                                             \n",
       "Bailey High School     [District]            4976  $15,549,641,728.00   \n",
       "Cabrera High School     [Charter]            1858   $2,009,159,448.00   \n",
       "Figueroa High School   [District]            2949   $5,557,128,039.00   \n",
       "Ford High School       [District]            2739   $4,831,365,924.00   \n",
       "Griffin High School     [Charter]            1468   $1,346,890,000.00   \n",
       "Hernandez High School  [District]            4635  $14,007,062,700.00   \n",
       "Holden High School      [Charter]             427     $105,933,149.00   \n",
       "Huang High School      [District]            2917   $5,573,322,295.00   \n",
       "Johnson High School    [District]            4761  $14,733,628,650.00   \n",
       "Pena High School        [Charter]             962     $563,595,396.00   \n",
       "Rodriguez High School  [District]            3999  $10,186,904,637.00   \n",
       "Shelton High School     [Charter]            1761   $1,860,672,600.00   \n",
       "Thomas High School      [Charter]            1635   $1,705,517,550.00   \n",
       "Wilson High School      [Charter]            2283   $3,012,587,442.00   \n",
       "Wright High School      [Charter]            1800   $1,888,920,000.00   \n",
       "\n",
       "                      Per Student Budget  Average Math Score  \\\n",
       "school_name                                                    \n",
       "Bailey High School         $3,124,928.00           77.048432   \n",
       "Cabrera High School        $1,081,356.00           83.061895   \n",
       "Figueroa High School       $1,884,411.00           76.711767   \n",
       "Ford High School           $1,763,916.00           77.102592   \n",
       "Griffin High School          $917,500.00           83.351499   \n",
       "Hernandez High School      $3,022,020.00           77.289752   \n",
       "Holden High School           $248,087.00           83.803279   \n",
       "Huang High School          $1,910,635.00           76.629414   \n",
       "Johnson High School        $3,094,650.00           77.072464   \n",
       "Pena High School             $585,858.00           83.839917   \n",
       "Rodriguez High School      $2,547,363.00           76.842711   \n",
       "Shelton High School        $1,056,600.00           83.359455   \n",
       "Thomas High School         $1,043,130.00           83.418349   \n",
       "Wilson High School         $1,319,574.00           83.274201   \n",
       "Wright High School         $1,049,400.00           83.682222   \n",
       "\n",
       "                       Average Reading Score % Passed Math % Passed Reading  \\\n",
       "school_name                                                                   \n",
       "Bailey High School                 81.033963     66.680064         81.93328   \n",
       "Cabrera High School                83.975780     94.133477        97.039828   \n",
       "Figueroa High School               81.158020     65.988471        80.739234   \n",
       "Ford High School                   80.746258     68.309602        79.299014   \n",
       "Griffin High School                83.816757     93.392371        97.138965   \n",
       "Hernandez High School              80.934412     66.752967        80.862999   \n",
       "Holden High School                 83.814988     92.505855        96.252927   \n",
       "Huang High School                  81.182722     65.683922        81.316421   \n",
       "Johnson High School                80.966394     66.057551        81.222432   \n",
       "Pena High School                   84.044699     94.594595        95.945946   \n",
       "Rodriguez High School              80.744686     66.366592        80.220055   \n",
       "Shelton High School                83.725724     93.867121        95.854628   \n",
       "Thomas High School                 83.848930     93.272171        97.308869   \n",
       "Wilson High School                 83.989488     93.867718        96.539641   \n",
       "Wright High School                 83.955000     93.333333        96.611111   \n",
       "\n",
       "                      % Passed Both  \n",
       "school_name                          \n",
       "Bailey High School        54.642283  \n",
       "Cabrera High School       91.334769  \n",
       "Figueroa High School      53.204476  \n",
       "Ford High School          54.289887  \n",
       "Griffin High School       90.599455  \n",
       "Hernandez High School     53.527508  \n",
       "Holden High School        89.227166  \n",
       "Huang High School         53.513884  \n",
       "Johnson High School       53.539172  \n",
       "Pena High School          90.540541  \n",
       "Rodriguez High School     52.988247  \n",
       "Shelton High School       89.892107  \n",
       "Thomas High School        90.948012  \n",
       "Wilson High School        90.582567  \n",
       "Wright High School        90.333333  "
      ],
      "text/html": "<div>\n<style scoped>\n    .dataframe tbody tr th:only-of-type {\n        vertical-align: middle;\n    }\n\n    .dataframe tbody tr th {\n        vertical-align: top;\n    }\n\n    .dataframe thead th {\n        text-align: right;\n    }\n</style>\n<table border=\"1\" class=\"dataframe\">\n  <thead>\n    <tr style=\"text-align: right;\">\n      <th></th>\n      <th>School Type</th>\n      <th>Total Students</th>\n      <th>Total School Budget</th>\n      <th>Per Student Budget</th>\n      <th>Average Math Score</th>\n      <th>Average Reading Score</th>\n      <th>% Passed Math</th>\n      <th>% Passed Reading</th>\n      <th>% Passed Both</th>\n    </tr>\n    <tr>\n      <th>school_name</th>\n      <th></th>\n      <th></th>\n      <th></th>\n      <th></th>\n      <th></th>\n      <th></th>\n      <th></th>\n      <th></th>\n      <th></th>\n    </tr>\n  </thead>\n  <tbody>\n    <tr>\n      <th>Bailey High School</th>\n      <td>[District]</td>\n      <td>4976</td>\n      <td>$15,549,641,728.00</td>\n      <td>$3,124,928.00</td>\n      <td>77.048432</td>\n      <td>81.033963</td>\n      <td>66.680064</td>\n      <td>81.93328</td>\n      <td>54.642283</td>\n    </tr>\n    <tr>\n      <th>Cabrera High School</th>\n      <td>[Charter]</td>\n      <td>1858</td>\n      <td>$2,009,159,448.00</td>\n      <td>$1,081,356.00</td>\n      <td>83.061895</td>\n      <td>83.975780</td>\n      <td>94.133477</td>\n      <td>97.039828</td>\n      <td>91.334769</td>\n    </tr>\n    <tr>\n      <th>Figueroa High School</th>\n      <td>[District]</td>\n      <td>2949</td>\n      <td>$5,557,128,039.00</td>\n      <td>$1,884,411.00</td>\n      <td>76.711767</td>\n      <td>81.158020</td>\n      <td>65.988471</td>\n      <td>80.739234</td>\n      <td>53.204476</td>\n    </tr>\n    <tr>\n      <th>Ford High School</th>\n      <td>[District]</td>\n      <td>2739</td>\n      <td>$4,831,365,924.00</td>\n      <td>$1,763,916.00</td>\n      <td>77.102592</td>\n      <td>80.746258</td>\n      <td>68.309602</td>\n      <td>79.299014</td>\n      <td>54.289887</td>\n    </tr>\n    <tr>\n      <th>Griffin High School</th>\n      <td>[Charter]</td>\n      <td>1468</td>\n      <td>$1,346,890,000.00</td>\n      <td>$917,500.00</td>\n      <td>83.351499</td>\n      <td>83.816757</td>\n      <td>93.392371</td>\n      <td>97.138965</td>\n      <td>90.599455</td>\n    </tr>\n    <tr>\n      <th>Hernandez High School</th>\n      <td>[District]</td>\n      <td>4635</td>\n      <td>$14,007,062,700.00</td>\n      <td>$3,022,020.00</td>\n      <td>77.289752</td>\n      <td>80.934412</td>\n      <td>66.752967</td>\n      <td>80.862999</td>\n      <td>53.527508</td>\n    </tr>\n    <tr>\n      <th>Holden High School</th>\n      <td>[Charter]</td>\n      <td>427</td>\n      <td>$105,933,149.00</td>\n      <td>$248,087.00</td>\n      <td>83.803279</td>\n      <td>83.814988</td>\n      <td>92.505855</td>\n      <td>96.252927</td>\n      <td>89.227166</td>\n    </tr>\n    <tr>\n      <th>Huang High School</th>\n      <td>[District]</td>\n      <td>2917</td>\n      <td>$5,573,322,295.00</td>\n      <td>$1,910,635.00</td>\n      <td>76.629414</td>\n      <td>81.182722</td>\n      <td>65.683922</td>\n      <td>81.316421</td>\n      <td>53.513884</td>\n    </tr>\n    <tr>\n      <th>Johnson High School</th>\n      <td>[District]</td>\n      <td>4761</td>\n      <td>$14,733,628,650.00</td>\n      <td>$3,094,650.00</td>\n      <td>77.072464</td>\n      <td>80.966394</td>\n      <td>66.057551</td>\n      <td>81.222432</td>\n      <td>53.539172</td>\n    </tr>\n    <tr>\n      <th>Pena High School</th>\n      <td>[Charter]</td>\n      <td>962</td>\n      <td>$563,595,396.00</td>\n      <td>$585,858.00</td>\n      <td>83.839917</td>\n      <td>84.044699</td>\n      <td>94.594595</td>\n      <td>95.945946</td>\n      <td>90.540541</td>\n    </tr>\n    <tr>\n      <th>Rodriguez High School</th>\n      <td>[District]</td>\n      <td>3999</td>\n      <td>$10,186,904,637.00</td>\n      <td>$2,547,363.00</td>\n      <td>76.842711</td>\n      <td>80.744686</td>\n      <td>66.366592</td>\n      <td>80.220055</td>\n      <td>52.988247</td>\n    </tr>\n    <tr>\n      <th>Shelton High School</th>\n      <td>[Charter]</td>\n      <td>1761</td>\n      <td>$1,860,672,600.00</td>\n      <td>$1,056,600.00</td>\n      <td>83.359455</td>\n      <td>83.725724</td>\n      <td>93.867121</td>\n      <td>95.854628</td>\n      <td>89.892107</td>\n    </tr>\n    <tr>\n      <th>Thomas High School</th>\n      <td>[Charter]</td>\n      <td>1635</td>\n      <td>$1,705,517,550.00</td>\n      <td>$1,043,130.00</td>\n      <td>83.418349</td>\n      <td>83.848930</td>\n      <td>93.272171</td>\n      <td>97.308869</td>\n      <td>90.948012</td>\n    </tr>\n    <tr>\n      <th>Wilson High School</th>\n      <td>[Charter]</td>\n      <td>2283</td>\n      <td>$3,012,587,442.00</td>\n      <td>$1,319,574.00</td>\n      <td>83.274201</td>\n      <td>83.989488</td>\n      <td>93.867718</td>\n      <td>96.539641</td>\n      <td>90.582567</td>\n    </tr>\n    <tr>\n      <th>Wright High School</th>\n      <td>[Charter]</td>\n      <td>1800</td>\n      <td>$1,888,920,000.00</td>\n      <td>$1,049,400.00</td>\n      <td>83.682222</td>\n      <td>83.955000</td>\n      <td>93.333333</td>\n      <td>96.611111</td>\n      <td>90.333333</td>\n    </tr>\n  </tbody>\n</table>\n</div>"
     },
     "metadata": {},
     "execution_count": 7
    }
   ],
   "source": [
    "# Use Group By to sort by the school name and then display\n",
    "school_summary_df = school_data_complete_df.groupby([\"school_name\"])\n",
    "\n",
    "# Use Group By to get all the column info\n",
    "school_summary_count = school_summary_df[\"student_name\"].count()\n",
    "school_summary_type = school_summary_df[\"type\"].unique()\n",
    "school_summary_budget = school_summary_df[\"budget\"].sum()\n",
    "school_summary_avg = school_summary_budget / school_summary_count\n",
    "school_summary_math = school_summary_df[\"math_score\"].mean()\n",
    "school_summary_read = school_summary_df[\"reading_score\"].mean()\n",
    "\n",
    "# Use Group By to get data for passing math and passing reading and passing both\n",
    "pass_math = school_data_complete_df[school_data_complete_df[\"math_score\"] >= 70].groupby(\"school_name\")[\"Student ID\"].count()\n",
    "pct_pass_math = (pass_math / school_summary_count) * 100\n",
    "pass_read = school_data_complete_df[school_data_complete_df[\"reading_score\"] >= 70].groupby(\"school_name\")[\"Student ID\"].count()\n",
    "pct_pass_read = (pass_read / school_summary_count) * 100\n",
    "pass_both =  school_data_complete_df[(school_data_complete_df[\"math_score\"] >= 70) & (school_data_complete_df[\"reading_score\"] >= 70)].groupby(\"school_name\")[\"Student ID\"].count()\n",
    "pct_pass_both = (pass_both / school_summary_count) * 100\n",
    "\n",
    "\n",
    "school_analysis_df = pd.DataFrame({\"School Type\": school_summary_type,\n",
    "                                   \"Total Students\": school_summary_count,\n",
    "                                   \"Total School Budget\": school_summary_budget,\n",
    "                                   \"Per Student Budget\": school_summary_avg,\n",
    "                                   \"Average Math Score\": school_summary_math,\n",
    "                                   \"Average Reading Score\": school_summary_read,\n",
    "                                   \"% Passed Math\": pct_pass_math,\n",
    "                                   \"% Passed Reading\": pct_pass_read,\n",
    "                                   \"% Passed Both\": pct_pass_both})\n",
    "school_analysis_df \n",
    "\n",
    "# Format the Data Frame\n",
    "school_analysis_df[\"Total School Budget\"] = school_analysis_df[\"Total School Budget\"].map(\"${:,.2f}\".format)\n",
    "school_analysis_df[\"Per Student Budget\"] = school_analysis_df[\"Per Student Budget\"].map(\"${:,.2f}\".format)\n",
    "school_analysis_df[\"% Passed Math\"] = school_analysis_df[\"% Passed Math\"].map(\"{:.8}\".format)\n",
    "school_analysis_df[\"% Passed Reading\"] = school_analysis_df[\"% Passed Reading\"].map(\"{:.8}\".format)\n",
    "school_analysis_df[\"% Passed Both\"] = school_analysis_df[\"% Passed Both\"].map(\"{:.8}\".format)\n",
    "school_analysis_df"
   ]
  },
  {
   "cell_type": "code",
   "execution_count": 8,
   "metadata": {
    "scrolled": true
   },
   "outputs": [
    {
     "output_type": "execute_result",
     "data": {
      "text/plain": [
       "                    School Type  Total Students Total School Budget  \\\n",
       "school_name                                                           \n",
       "Cabrera High School   [Charter]            1858   $2,009,159,448.00   \n",
       "Thomas High School    [Charter]            1635   $1,705,517,550.00   \n",
       "Griffin High School   [Charter]            1468   $1,346,890,000.00   \n",
       "Wilson High School    [Charter]            2283   $3,012,587,442.00   \n",
       "Pena High School      [Charter]             962     $563,595,396.00   \n",
       "\n",
       "                    Per Student Budget  Average Math Score  \\\n",
       "school_name                                                  \n",
       "Cabrera High School      $1,081,356.00           83.061895   \n",
       "Thomas High School       $1,043,130.00           83.418349   \n",
       "Griffin High School        $917,500.00           83.351499   \n",
       "Wilson High School       $1,319,574.00           83.274201   \n",
       "Pena High School           $585,858.00           83.839917   \n",
       "\n",
       "                     Average Reading Score % Passed Math % Passed Reading  \\\n",
       "school_name                                                                 \n",
       "Cabrera High School              83.975780     94.133477        97.039828   \n",
       "Thomas High School               83.848930     93.272171        97.308869   \n",
       "Griffin High School              83.816757     93.392371        97.138965   \n",
       "Wilson High School               83.989488     93.867718        96.539641   \n",
       "Pena High School                 84.044699     94.594595        95.945946   \n",
       "\n",
       "                    % Passed Both  \n",
       "school_name                        \n",
       "Cabrera High School     91.334769  \n",
       "Thomas High School      90.948012  \n",
       "Griffin High School     90.599455  \n",
       "Wilson High School      90.582567  \n",
       "Pena High School        90.540541  "
      ],
      "text/html": "<div>\n<style scoped>\n    .dataframe tbody tr th:only-of-type {\n        vertical-align: middle;\n    }\n\n    .dataframe tbody tr th {\n        vertical-align: top;\n    }\n\n    .dataframe thead th {\n        text-align: right;\n    }\n</style>\n<table border=\"1\" class=\"dataframe\">\n  <thead>\n    <tr style=\"text-align: right;\">\n      <th></th>\n      <th>School Type</th>\n      <th>Total Students</th>\n      <th>Total School Budget</th>\n      <th>Per Student Budget</th>\n      <th>Average Math Score</th>\n      <th>Average Reading Score</th>\n      <th>% Passed Math</th>\n      <th>% Passed Reading</th>\n      <th>% Passed Both</th>\n    </tr>\n    <tr>\n      <th>school_name</th>\n      <th></th>\n      <th></th>\n      <th></th>\n      <th></th>\n      <th></th>\n      <th></th>\n      <th></th>\n      <th></th>\n      <th></th>\n    </tr>\n  </thead>\n  <tbody>\n    <tr>\n      <th>Cabrera High School</th>\n      <td>[Charter]</td>\n      <td>1858</td>\n      <td>$2,009,159,448.00</td>\n      <td>$1,081,356.00</td>\n      <td>83.061895</td>\n      <td>83.975780</td>\n      <td>94.133477</td>\n      <td>97.039828</td>\n      <td>91.334769</td>\n    </tr>\n    <tr>\n      <th>Thomas High School</th>\n      <td>[Charter]</td>\n      <td>1635</td>\n      <td>$1,705,517,550.00</td>\n      <td>$1,043,130.00</td>\n      <td>83.418349</td>\n      <td>83.848930</td>\n      <td>93.272171</td>\n      <td>97.308869</td>\n      <td>90.948012</td>\n    </tr>\n    <tr>\n      <th>Griffin High School</th>\n      <td>[Charter]</td>\n      <td>1468</td>\n      <td>$1,346,890,000.00</td>\n      <td>$917,500.00</td>\n      <td>83.351499</td>\n      <td>83.816757</td>\n      <td>93.392371</td>\n      <td>97.138965</td>\n      <td>90.599455</td>\n    </tr>\n    <tr>\n      <th>Wilson High School</th>\n      <td>[Charter]</td>\n      <td>2283</td>\n      <td>$3,012,587,442.00</td>\n      <td>$1,319,574.00</td>\n      <td>83.274201</td>\n      <td>83.989488</td>\n      <td>93.867718</td>\n      <td>96.539641</td>\n      <td>90.582567</td>\n    </tr>\n    <tr>\n      <th>Pena High School</th>\n      <td>[Charter]</td>\n      <td>962</td>\n      <td>$563,595,396.00</td>\n      <td>$585,858.00</td>\n      <td>83.839917</td>\n      <td>84.044699</td>\n      <td>94.594595</td>\n      <td>95.945946</td>\n      <td>90.540541</td>\n    </tr>\n  </tbody>\n</table>\n</div>"
     },
     "metadata": {},
     "execution_count": 8
    }
   ],
   "source": [
    "top_overall_df = school_analysis_df.sort_values(\"% Passed Both\", ascending=False)\n",
    "top_overall_df.head()"
   ]
  },
  {
   "cell_type": "code",
   "execution_count": 9,
   "metadata": {},
   "outputs": [
    {
     "output_type": "execute_result",
     "data": {
      "text/plain": [
       "                      School Type  Total Students Total School Budget  \\\n",
       "school_name                                                             \n",
       "Rodriguez High School  [District]            3999  $10,186,904,637.00   \n",
       "Figueroa High School   [District]            2949   $5,557,128,039.00   \n",
       "Huang High School      [District]            2917   $5,573,322,295.00   \n",
       "Hernandez High School  [District]            4635  $14,007,062,700.00   \n",
       "Johnson High School    [District]            4761  $14,733,628,650.00   \n",
       "\n",
       "                      Per Student Budget  Average Math Score  \\\n",
       "school_name                                                    \n",
       "Rodriguez High School      $2,547,363.00           76.842711   \n",
       "Figueroa High School       $1,884,411.00           76.711767   \n",
       "Huang High School          $1,910,635.00           76.629414   \n",
       "Hernandez High School      $3,022,020.00           77.289752   \n",
       "Johnson High School        $3,094,650.00           77.072464   \n",
       "\n",
       "                       Average Reading Score % Passed Math % Passed Reading  \\\n",
       "school_name                                                                   \n",
       "Rodriguez High School              80.744686     66.366592        80.220055   \n",
       "Figueroa High School               81.158020     65.988471        80.739234   \n",
       "Huang High School                  81.182722     65.683922        81.316421   \n",
       "Hernandez High School              80.934412     66.752967        80.862999   \n",
       "Johnson High School                80.966394     66.057551        81.222432   \n",
       "\n",
       "                      % Passed Both  \n",
       "school_name                          \n",
       "Rodriguez High School     52.988247  \n",
       "Figueroa High School      53.204476  \n",
       "Huang High School         53.513884  \n",
       "Hernandez High School     53.527508  \n",
       "Johnson High School       53.539172  "
      ],
      "text/html": "<div>\n<style scoped>\n    .dataframe tbody tr th:only-of-type {\n        vertical-align: middle;\n    }\n\n    .dataframe tbody tr th {\n        vertical-align: top;\n    }\n\n    .dataframe thead th {\n        text-align: right;\n    }\n</style>\n<table border=\"1\" class=\"dataframe\">\n  <thead>\n    <tr style=\"text-align: right;\">\n      <th></th>\n      <th>School Type</th>\n      <th>Total Students</th>\n      <th>Total School Budget</th>\n      <th>Per Student Budget</th>\n      <th>Average Math Score</th>\n      <th>Average Reading Score</th>\n      <th>% Passed Math</th>\n      <th>% Passed Reading</th>\n      <th>% Passed Both</th>\n    </tr>\n    <tr>\n      <th>school_name</th>\n      <th></th>\n      <th></th>\n      <th></th>\n      <th></th>\n      <th></th>\n      <th></th>\n      <th></th>\n      <th></th>\n      <th></th>\n    </tr>\n  </thead>\n  <tbody>\n    <tr>\n      <th>Rodriguez High School</th>\n      <td>[District]</td>\n      <td>3999</td>\n      <td>$10,186,904,637.00</td>\n      <td>$2,547,363.00</td>\n      <td>76.842711</td>\n      <td>80.744686</td>\n      <td>66.366592</td>\n      <td>80.220055</td>\n      <td>52.988247</td>\n    </tr>\n    <tr>\n      <th>Figueroa High School</th>\n      <td>[District]</td>\n      <td>2949</td>\n      <td>$5,557,128,039.00</td>\n      <td>$1,884,411.00</td>\n      <td>76.711767</td>\n      <td>81.158020</td>\n      <td>65.988471</td>\n      <td>80.739234</td>\n      <td>53.204476</td>\n    </tr>\n    <tr>\n      <th>Huang High School</th>\n      <td>[District]</td>\n      <td>2917</td>\n      <td>$5,573,322,295.00</td>\n      <td>$1,910,635.00</td>\n      <td>76.629414</td>\n      <td>81.182722</td>\n      <td>65.683922</td>\n      <td>81.316421</td>\n      <td>53.513884</td>\n    </tr>\n    <tr>\n      <th>Hernandez High School</th>\n      <td>[District]</td>\n      <td>4635</td>\n      <td>$14,007,062,700.00</td>\n      <td>$3,022,020.00</td>\n      <td>77.289752</td>\n      <td>80.934412</td>\n      <td>66.752967</td>\n      <td>80.862999</td>\n      <td>53.527508</td>\n    </tr>\n    <tr>\n      <th>Johnson High School</th>\n      <td>[District]</td>\n      <td>4761</td>\n      <td>$14,733,628,650.00</td>\n      <td>$3,094,650.00</td>\n      <td>77.072464</td>\n      <td>80.966394</td>\n      <td>66.057551</td>\n      <td>81.222432</td>\n      <td>53.539172</td>\n    </tr>\n  </tbody>\n</table>\n</div>"
     },
     "metadata": {},
     "execution_count": 9
    }
   ],
   "source": [
    "bottom_overall_df = school_analysis_df.sort_values(\"% Passed Both\", ascending=True)\n",
    "bottom_overall_df.head()"
   ]
  },
  {
   "cell_type": "code",
   "execution_count": 10,
   "metadata": {},
   "outputs": [
    {
     "output_type": "execute_result",
     "data": {
      "text/plain": [
       "                       Ninth Grade  Tenth Grade  Eleventh Grade  Twelfth Grade\n",
       "school_name                                                                   \n",
       "Bailey High School       77.083676    76.996772       77.515588      76.492218\n",
       "Cabrera High School      83.094697    83.154506       82.765560      83.277487\n",
       "Figueroa High School     76.403037    76.539974       76.884344      77.151369\n",
       "Ford High School         77.361345    77.672316       76.918058      76.179963\n",
       "Griffin High School      82.044010    84.229064       83.842105      83.356164\n",
       "Hernandez High School    77.438495    77.337408       77.136029      77.186567\n",
       "Holden High School       83.787402    83.429825       85.000000      82.855422\n",
       "Huang High School        77.027251    75.908735       76.446602      77.225641\n",
       "Johnson High School      77.187857    76.691117       77.491653      76.863248\n",
       "Pena High School         83.625455    83.372000       84.328125      84.121547\n",
       "Rodriguez High School    76.859966    76.612500       76.395626      77.690748\n",
       "Shelton High School      83.420755    82.917411       83.383495      83.778976\n",
       "Thomas High School       83.590022    83.087886       83.498795      83.497041\n",
       "Wilson High School       83.085578    83.724422       83.195326      83.035794\n",
       "Wright High School       83.264706    84.010288       83.836782      83.644986"
      ],
      "text/html": "<div>\n<style scoped>\n    .dataframe tbody tr th:only-of-type {\n        vertical-align: middle;\n    }\n\n    .dataframe tbody tr th {\n        vertical-align: top;\n    }\n\n    .dataframe thead th {\n        text-align: right;\n    }\n</style>\n<table border=\"1\" class=\"dataframe\">\n  <thead>\n    <tr style=\"text-align: right;\">\n      <th></th>\n      <th>Ninth Grade</th>\n      <th>Tenth Grade</th>\n      <th>Eleventh Grade</th>\n      <th>Twelfth Grade</th>\n    </tr>\n    <tr>\n      <th>school_name</th>\n      <th></th>\n      <th></th>\n      <th></th>\n      <th></th>\n    </tr>\n  </thead>\n  <tbody>\n    <tr>\n      <th>Bailey High School</th>\n      <td>77.083676</td>\n      <td>76.996772</td>\n      <td>77.515588</td>\n      <td>76.492218</td>\n    </tr>\n    <tr>\n      <th>Cabrera High School</th>\n      <td>83.094697</td>\n      <td>83.154506</td>\n      <td>82.765560</td>\n      <td>83.277487</td>\n    </tr>\n    <tr>\n      <th>Figueroa High School</th>\n      <td>76.403037</td>\n      <td>76.539974</td>\n      <td>76.884344</td>\n      <td>77.151369</td>\n    </tr>\n    <tr>\n      <th>Ford High School</th>\n      <td>77.361345</td>\n      <td>77.672316</td>\n      <td>76.918058</td>\n      <td>76.179963</td>\n    </tr>\n    <tr>\n      <th>Griffin High School</th>\n      <td>82.044010</td>\n      <td>84.229064</td>\n      <td>83.842105</td>\n      <td>83.356164</td>\n    </tr>\n    <tr>\n      <th>Hernandez High School</th>\n      <td>77.438495</td>\n      <td>77.337408</td>\n      <td>77.136029</td>\n      <td>77.186567</td>\n    </tr>\n    <tr>\n      <th>Holden High School</th>\n      <td>83.787402</td>\n      <td>83.429825</td>\n      <td>85.000000</td>\n      <td>82.855422</td>\n    </tr>\n    <tr>\n      <th>Huang High School</th>\n      <td>77.027251</td>\n      <td>75.908735</td>\n      <td>76.446602</td>\n      <td>77.225641</td>\n    </tr>\n    <tr>\n      <th>Johnson High School</th>\n      <td>77.187857</td>\n      <td>76.691117</td>\n      <td>77.491653</td>\n      <td>76.863248</td>\n    </tr>\n    <tr>\n      <th>Pena High School</th>\n      <td>83.625455</td>\n      <td>83.372000</td>\n      <td>84.328125</td>\n      <td>84.121547</td>\n    </tr>\n    <tr>\n      <th>Rodriguez High School</th>\n      <td>76.859966</td>\n      <td>76.612500</td>\n      <td>76.395626</td>\n      <td>77.690748</td>\n    </tr>\n    <tr>\n      <th>Shelton High School</th>\n      <td>83.420755</td>\n      <td>82.917411</td>\n      <td>83.383495</td>\n      <td>83.778976</td>\n    </tr>\n    <tr>\n      <th>Thomas High School</th>\n      <td>83.590022</td>\n      <td>83.087886</td>\n      <td>83.498795</td>\n      <td>83.497041</td>\n    </tr>\n    <tr>\n      <th>Wilson High School</th>\n      <td>83.085578</td>\n      <td>83.724422</td>\n      <td>83.195326</td>\n      <td>83.035794</td>\n    </tr>\n    <tr>\n      <th>Wright High School</th>\n      <td>83.264706</td>\n      <td>84.010288</td>\n      <td>83.836782</td>\n      <td>83.644986</td>\n    </tr>\n  </tbody>\n</table>\n</div>"
     },
     "metadata": {},
     "execution_count": 10
    }
   ],
   "source": [
    "# Use the loc function and Group By to find all the graded students and their corresponding math scores\n",
    "math_avg_ninth = school_data_complete_df.loc[school_data_complete_df[\"grade\"] == \"9th\"].groupby(\"school_name\")[\"math_score\"].mean()\n",
    "math_avg_tenth = school_data_complete_df.loc[school_data_complete_df[\"grade\"] == \"10th\"].groupby(\"school_name\")[\"math_score\"].mean()\n",
    "math_avg_eleventh = school_data_complete_df.loc[school_data_complete_df[\"grade\"] == \"11th\"].groupby(\"school_name\")[\"math_score\"].mean()\n",
    "math_avg_twelfth = school_data_complete_df.loc[school_data_complete_df[\"grade\"] == \"12th\"].groupby(\"school_name\")[\"math_score\"].mean()\n",
    "\n",
    "# Create a Pandas Data Frame to hold all of this information\n",
    "math_avg_grade = pd.DataFrame({\"Ninth Grade\": math_avg_ninth, \n",
    "                               \"Tenth Grade\": math_avg_tenth,\n",
    "                               \"Eleventh Grade\": math_avg_eleventh,\n",
    "                               \"Twelfth Grade\": math_avg_twelfth})\n",
    "math_avg_grade"
   ]
  },
  {
   "cell_type": "code",
   "execution_count": 11,
   "metadata": {},
   "outputs": [
    {
     "output_type": "execute_result",
     "data": {
      "text/plain": [
       "                       Ninth Grade  Tenth Grade  Eleventh Grade  Twelfth Grade\n",
       "school_name                                                                   \n",
       "Bailey High School       81.303155    80.907183       80.945643      80.912451\n",
       "Cabrera High School      83.676136    84.253219       83.788382      84.287958\n",
       "Figueroa High School     81.198598    81.408912       80.640339      81.384863\n",
       "Ford High School         80.632653    81.262712       80.403642      80.662338\n",
       "Griffin High School      83.369193    83.706897       84.288089      84.013699\n",
       "Hernandez High School    80.866860    80.660147       81.396140      80.857143\n",
       "Holden High School       83.677165    83.324561       83.815534      84.698795\n",
       "Huang High School        81.290284    81.512386       81.417476      80.305983\n",
       "Johnson High School      81.260714    80.773431       80.616027      81.227564\n",
       "Pena High School         83.807273    83.612000       84.335938      84.591160\n",
       "Rodriguez High School    80.993127    80.629808       80.864811      80.376426\n",
       "Shelton High School      84.122642    83.441964       84.373786      82.781671\n",
       "Thomas High School       83.728850    84.254157       83.585542      83.831361\n",
       "Wilson High School       83.939778    84.021452       83.764608      84.317673\n",
       "Wright High School       83.833333    83.812757       84.156322      84.073171"
      ],
      "text/html": "<div>\n<style scoped>\n    .dataframe tbody tr th:only-of-type {\n        vertical-align: middle;\n    }\n\n    .dataframe tbody tr th {\n        vertical-align: top;\n    }\n\n    .dataframe thead th {\n        text-align: right;\n    }\n</style>\n<table border=\"1\" class=\"dataframe\">\n  <thead>\n    <tr style=\"text-align: right;\">\n      <th></th>\n      <th>Ninth Grade</th>\n      <th>Tenth Grade</th>\n      <th>Eleventh Grade</th>\n      <th>Twelfth Grade</th>\n    </tr>\n    <tr>\n      <th>school_name</th>\n      <th></th>\n      <th></th>\n      <th></th>\n      <th></th>\n    </tr>\n  </thead>\n  <tbody>\n    <tr>\n      <th>Bailey High School</th>\n      <td>81.303155</td>\n      <td>80.907183</td>\n      <td>80.945643</td>\n      <td>80.912451</td>\n    </tr>\n    <tr>\n      <th>Cabrera High School</th>\n      <td>83.676136</td>\n      <td>84.253219</td>\n      <td>83.788382</td>\n      <td>84.287958</td>\n    </tr>\n    <tr>\n      <th>Figueroa High School</th>\n      <td>81.198598</td>\n      <td>81.408912</td>\n      <td>80.640339</td>\n      <td>81.384863</td>\n    </tr>\n    <tr>\n      <th>Ford High School</th>\n      <td>80.632653</td>\n      <td>81.262712</td>\n      <td>80.403642</td>\n      <td>80.662338</td>\n    </tr>\n    <tr>\n      <th>Griffin High School</th>\n      <td>83.369193</td>\n      <td>83.706897</td>\n      <td>84.288089</td>\n      <td>84.013699</td>\n    </tr>\n    <tr>\n      <th>Hernandez High School</th>\n      <td>80.866860</td>\n      <td>80.660147</td>\n      <td>81.396140</td>\n      <td>80.857143</td>\n    </tr>\n    <tr>\n      <th>Holden High School</th>\n      <td>83.677165</td>\n      <td>83.324561</td>\n      <td>83.815534</td>\n      <td>84.698795</td>\n    </tr>\n    <tr>\n      <th>Huang High School</th>\n      <td>81.290284</td>\n      <td>81.512386</td>\n      <td>81.417476</td>\n      <td>80.305983</td>\n    </tr>\n    <tr>\n      <th>Johnson High School</th>\n      <td>81.260714</td>\n      <td>80.773431</td>\n      <td>80.616027</td>\n      <td>81.227564</td>\n    </tr>\n    <tr>\n      <th>Pena High School</th>\n      <td>83.807273</td>\n      <td>83.612000</td>\n      <td>84.335938</td>\n      <td>84.591160</td>\n    </tr>\n    <tr>\n      <th>Rodriguez High School</th>\n      <td>80.993127</td>\n      <td>80.629808</td>\n      <td>80.864811</td>\n      <td>80.376426</td>\n    </tr>\n    <tr>\n      <th>Shelton High School</th>\n      <td>84.122642</td>\n      <td>83.441964</td>\n      <td>84.373786</td>\n      <td>82.781671</td>\n    </tr>\n    <tr>\n      <th>Thomas High School</th>\n      <td>83.728850</td>\n      <td>84.254157</td>\n      <td>83.585542</td>\n      <td>83.831361</td>\n    </tr>\n    <tr>\n      <th>Wilson High School</th>\n      <td>83.939778</td>\n      <td>84.021452</td>\n      <td>83.764608</td>\n      <td>84.317673</td>\n    </tr>\n    <tr>\n      <th>Wright High School</th>\n      <td>83.833333</td>\n      <td>83.812757</td>\n      <td>84.156322</td>\n      <td>84.073171</td>\n    </tr>\n  </tbody>\n</table>\n</div>"
     },
     "metadata": {},
     "execution_count": 11
    }
   ],
   "source": [
    "# Use the loc function and Group By to find all the graded students and their corresponding math scores\n",
    "read_avg_ninth = school_data_complete_df.loc[school_data_complete_df[\"grade\"] == \"9th\"].groupby(\"school_name\")[\"reading_score\"].mean()\n",
    "read_avg_tenth = school_data_complete_df.loc[school_data_complete_df[\"grade\"] == \"10th\"].groupby(\"school_name\")[\"reading_score\"].mean()\n",
    "read_avg_eleventh = school_data_complete_df.loc[school_data_complete_df[\"grade\"] == \"11th\"].groupby(\"school_name\")[\"reading_score\"].mean()\n",
    "read_avg_twelfth = school_data_complete_df.loc[school_data_complete_df[\"grade\"] == \"12th\"].groupby(\"school_name\")[\"reading_score\"].mean()\n",
    "\n",
    "# Create a Pandas Data Frame to hold all of this information\n",
    "read_avg_grade = pd.DataFrame({\"Ninth Grade\": read_avg_ninth, \n",
    "                               \"Tenth Grade\": read_avg_tenth,\n",
    "                               \"Eleventh Grade\": read_avg_eleventh,\n",
    "                               \"Twelfth Grade\": read_avg_twelfth})\n",
    "read_avg_grade"
   ]
  },
  {
   "cell_type": "code",
   "execution_count": 45,
   "metadata": {},
   "outputs": [
    {
     "output_type": "execute_result",
     "data": {
      "text/plain": [
       "                              Average Math Score Average Reading Score  \\\n",
       "Spending Ranges (Per Student)                                            \n",
       "< $584                                      83.4                  84.0   \n",
       "$585 - $629                                 80.0                  82.3   \n",
       "$630 - $644                                 77.8                  81.3   \n",
       "$645 - $675                                 77.0                  81.0   \n",
       "\n",
       "                              % Passed Math % Passed Reading % Overall Passed  \n",
       "Spending Ranges (Per Student)                                                  \n",
       "< $584                                 93.7             96.7             90.6  \n",
       "$585 - $629                            79.1             88.5             70.9  \n",
       "$630 - $644                            70.6             82.6             58.8  \n",
       "$645 - $675                            66.2             81.1             53.5  "
      ],
      "text/html": "<div>\n<style scoped>\n    .dataframe tbody tr th:only-of-type {\n        vertical-align: middle;\n    }\n\n    .dataframe tbody tr th {\n        vertical-align: top;\n    }\n\n    .dataframe thead th {\n        text-align: right;\n    }\n</style>\n<table border=\"1\" class=\"dataframe\">\n  <thead>\n    <tr style=\"text-align: right;\">\n      <th></th>\n      <th>Average Math Score</th>\n      <th>Average Reading Score</th>\n      <th>% Passed Math</th>\n      <th>% Passed Reading</th>\n      <th>% Overall Passed</th>\n    </tr>\n    <tr>\n      <th>Spending Ranges (Per Student)</th>\n      <th></th>\n      <th></th>\n      <th></th>\n      <th></th>\n      <th></th>\n    </tr>\n  </thead>\n  <tbody>\n    <tr>\n      <th>&lt; $584</th>\n      <td>83.4</td>\n      <td>84.0</td>\n      <td>93.7</td>\n      <td>96.7</td>\n      <td>90.6</td>\n    </tr>\n    <tr>\n      <th>$585 - $629</th>\n      <td>80.0</td>\n      <td>82.3</td>\n      <td>79.1</td>\n      <td>88.5</td>\n      <td>70.9</td>\n    </tr>\n    <tr>\n      <th>$630 - $644</th>\n      <td>77.8</td>\n      <td>81.3</td>\n      <td>70.6</td>\n      <td>82.6</td>\n      <td>58.8</td>\n    </tr>\n    <tr>\n      <th>$645 - $675</th>\n      <td>77.0</td>\n      <td>81.0</td>\n      <td>66.2</td>\n      <td>81.1</td>\n      <td>53.5</td>\n    </tr>\n  </tbody>\n</table>\n</div>"
     },
     "metadata": {},
     "execution_count": 45
    }
   ],
   "source": [
    "# Create bins to hold the spending ranges, numbers on the right are includsive\n",
    "bins = [0, 583, 629, 644, 675]\n",
    "bin_names = [\"< $584\", \"$585 - $629\", \"$630 - $644\", \"$645 - $675\"]\n",
    "school_data_complete_df[\"Spending Ranges (Per Student)\"] = pd.cut(school_data_complete_df[\"budget\"] / school_data_complete_df[\"size\"], bins, labels=bin_names)\n",
    "school_data_complete_df[\"Spending Ranges (Per Student)\"]\n",
    "\n",
    "# Create the Data Frame to display the information, use Group By on the Spending Ranges\n",
    "spending_df = school_data_complete_df.groupby(\"Spending Ranges (Per Student)\")\n",
    "avg_math_spending = spending_df[\"math_score\"].mean()\n",
    "avg_read_spending = spending_df[\"reading_score\"].mean()\n",
    "pct_math_spending = (school_data_complete_df[school_data_complete_df[\"math_score\"] >= 70].groupby(\"Spending Ranges (Per Student)\")[\"Student ID\"].count() / spending_df[\"Student ID\"].count()) * 100\n",
    "pct_read_spending = (school_data_complete_df[school_data_complete_df[\"reading_score\"] >= 70].groupby(\"Spending Ranges (Per Student)\")[\"Student ID\"].count() / spending_df[\"Student ID\"].count()) * 100\n",
    "pct_both_spending = (school_data_complete_df[(school_data_complete_df[\"math_score\"] >= 70) & (school_data_complete_df[\"reading_score\"] >= 70)].groupby(\"Spending Ranges (Per Student)\")[\"Student ID\"].count() / spending_df[\"Student ID\"].count()) * 100\n",
    "\n",
    "spending_summary_df = pd.DataFrame({\"Average Math Score\" : avg_math_spending,\n",
    "                        \"Average Reading Score\" : avg_read_spending,\n",
    "                        \"% Passed Math\" : pct_math_spending,\n",
    "                        \"% Passed Reading\" : pct_read_spending,\n",
    "                        \"% Overall Passed\" : pct_both_spending})\n",
    "\n",
    "spending_summary_df\n",
    "\n",
    "# Format the Data Frame\n",
    "spending_summary_df[\"Average Math Score\"] = spending_summary_df[\"Average Math Score\"].map(\"{:.3}\".format)\n",
    "spending_summary_df[\"Average Reading Score\"] = spending_summary_df[\"Average Reading Score\"].map(\"{:.3}\".format)\n",
    "spending_summary_df[\"% Passed Math\"] = spending_summary_df[\"% Passed Math\"].map(\"{:.3}\".format)\n",
    "spending_summary_df[\"% Passed Reading\"] = spending_summary_df[\"% Passed Reading\"].map(\"{:.3}\".format)\n",
    "spending_summary_df[\"% Overall Passed\"] = spending_summary_df[\"% Overall Passed\"].map(\"{:.3}\".format)\n",
    "spending_summary_df"
   ]
  },
  {
   "cell_type": "code",
   "execution_count": 47,
   "metadata": {
    "scrolled": true
   },
   "outputs": [
    {
     "output_type": "execute_result",
     "data": {
      "text/plain": [
       "                     Average Math Score Average Reading Score % Passed Math  \\\n",
       "School Size                                                                   \n",
       "Small (<1000)                      83.8                  84.0          94.0   \n",
       "Medium (1000 - 2000)               83.4                  83.9          93.6   \n",
       "Large (2000 - 5000)                77.5                  81.2          68.7   \n",
       "\n",
       "                     % Passed Reading % Overall Passed  \n",
       "School Size                                             \n",
       "Small (<1000)                    96.0             90.1  \n",
       "Medium (1000 - 2000)             96.8             90.6  \n",
       "Large (2000 - 5000)              82.1             56.6  "
      ],
      "text/html": "<div>\n<style scoped>\n    .dataframe tbody tr th:only-of-type {\n        vertical-align: middle;\n    }\n\n    .dataframe tbody tr th {\n        vertical-align: top;\n    }\n\n    .dataframe thead th {\n        text-align: right;\n    }\n</style>\n<table border=\"1\" class=\"dataframe\">\n  <thead>\n    <tr style=\"text-align: right;\">\n      <th></th>\n      <th>Average Math Score</th>\n      <th>Average Reading Score</th>\n      <th>% Passed Math</th>\n      <th>% Passed Reading</th>\n      <th>% Overall Passed</th>\n    </tr>\n    <tr>\n      <th>School Size</th>\n      <th></th>\n      <th></th>\n      <th></th>\n      <th></th>\n      <th></th>\n    </tr>\n  </thead>\n  <tbody>\n    <tr>\n      <th>Small (&lt;1000)</th>\n      <td>83.8</td>\n      <td>84.0</td>\n      <td>94.0</td>\n      <td>96.0</td>\n      <td>90.1</td>\n    </tr>\n    <tr>\n      <th>Medium (1000 - 2000)</th>\n      <td>83.4</td>\n      <td>83.9</td>\n      <td>93.6</td>\n      <td>96.8</td>\n      <td>90.6</td>\n    </tr>\n    <tr>\n      <th>Large (2000 - 5000)</th>\n      <td>77.5</td>\n      <td>81.2</td>\n      <td>68.7</td>\n      <td>82.1</td>\n      <td>56.6</td>\n    </tr>\n  </tbody>\n</table>\n</div>"
     },
     "metadata": {},
     "execution_count": 47
    }
   ],
   "source": [
    "# Create bins to hold the size ranges, numbers on the right are includsive\n",
    "bins = [0, 999, 1999, 5000]\n",
    "bin_names = [\"Small (<1000)\", \"Medium (1000 - 2000)\", \"Large (2000 - 5000)\"]\n",
    "school_data_complete_df[\"School Size\"] = pd.cut(school_data_complete_df[\"size\"],bins, labels=bin_names)\n",
    "school_data_complete_df[\"School Size\"]\n",
    "\n",
    "# Create the Data Frame to display the information, use Group By on the Size Ranges\n",
    "size_df = school_data_complete_df.groupby(\"School Size\")\n",
    "avg_math_size = size_df[\"math_score\"].mean()\n",
    "avg_read_size = size_df[\"reading_score\"].mean()\n",
    "pct_math_size = (school_data_complete_df[school_data_complete_df[\"math_score\"] >= 70].groupby(\"School Size\")[\"Student ID\"].count() / size_df[\"Student ID\"].count()) * 100\n",
    "pct_read_size = (school_data_complete_df[school_data_complete_df[\"reading_score\"] >= 70].groupby(\"School Size\")[\"Student ID\"].count() / size_df[\"Student ID\"].count()) * 100\n",
    "pct_both_size = (school_data_complete_df[(school_data_complete_df[\"math_score\"] >= 70) & (school_data_complete_df[\"reading_score\"] >= 70)].groupby(\"School Size\")[\"Student ID\"].count() / size_df[\"Student ID\"].count()) * 100\n",
    "\n",
    "size_summary_df = pd.DataFrame({\"Average Math Score\" : avg_math_size,\n",
    "                        \"Average Reading Score\" : avg_read_size,\n",
    "                        \"% Passed Math\" : pct_math_size,\n",
    "                        \"% Passed Reading\" : pct_read_size,\n",
    "                        \"% Overall Passed\" : pct_both_size})\n",
    "\n",
    "size_summary_df\n",
    "\n",
    "# Format the Data Frame\n",
    "size_summary_df[\"Average Math Score\"] = size_summary_df[\"Average Math Score\"].map(\"{:.3}\".format)\n",
    "size_summary_df[\"Average Reading Score\"] = size_summary_df[\"Average Reading Score\"].map(\"{:.3}\".format)\n",
    "size_summary_df[\"% Passed Math\"] = size_summary_df[\"% Passed Math\"].map(\"{:.3}\".format)\n",
    "size_summary_df[\"% Passed Reading\"] = size_summary_df[\"% Passed Reading\"].map(\"{:.3}\".format)\n",
    "size_summary_df[\"% Overall Passed\"] = size_summary_df[\"% Overall Passed\"].map(\"{:.3}\".format)\n",
    "size_summary_df"
   ]
  },
  {
   "cell_type": "code",
   "execution_count": 49,
   "metadata": {},
   "outputs": [
    {
     "output_type": "execute_result",
     "data": {
      "text/plain": [
       "         Average Math Score Average Reading Score % Passed Math  \\\n",
       "type                                                              \n",
       "Charter                83.4                  83.9          93.7   \n",
       "District               77.0                  81.0          66.5   \n",
       "\n",
       "         % Passed Reading % Overall Passed  \n",
       "type                                        \n",
       "Charter              96.6             90.6  \n",
       "District             80.9             53.7  "
      ],
      "text/html": "<div>\n<style scoped>\n    .dataframe tbody tr th:only-of-type {\n        vertical-align: middle;\n    }\n\n    .dataframe tbody tr th {\n        vertical-align: top;\n    }\n\n    .dataframe thead th {\n        text-align: right;\n    }\n</style>\n<table border=\"1\" class=\"dataframe\">\n  <thead>\n    <tr style=\"text-align: right;\">\n      <th></th>\n      <th>Average Math Score</th>\n      <th>Average Reading Score</th>\n      <th>% Passed Math</th>\n      <th>% Passed Reading</th>\n      <th>% Overall Passed</th>\n    </tr>\n    <tr>\n      <th>type</th>\n      <th></th>\n      <th></th>\n      <th></th>\n      <th></th>\n      <th></th>\n    </tr>\n  </thead>\n  <tbody>\n    <tr>\n      <th>Charter</th>\n      <td>83.4</td>\n      <td>83.9</td>\n      <td>93.7</td>\n      <td>96.6</td>\n      <td>90.6</td>\n    </tr>\n    <tr>\n      <th>District</th>\n      <td>77.0</td>\n      <td>81.0</td>\n      <td>66.5</td>\n      <td>80.9</td>\n      <td>53.7</td>\n    </tr>\n  </tbody>\n</table>\n</div>"
     },
     "metadata": {},
     "execution_count": 49
    }
   ],
   "source": [
    "# Create the Data Frame to display the information, use Group By on the School Type\n",
    "type_df = school_data_complete_df.groupby(\"type\")\n",
    "avg_math_type = type_df[\"math_score\"].mean()\n",
    "avg_read_type = type_df[\"reading_score\"].mean()\n",
    "pct_math_type = (school_data_complete_df[school_data_complete_df[\"math_score\"] >= 70].groupby(\"type\")[\"Student ID\"].count() / type_df[\"Student ID\"].count()) * 100\n",
    "pct_read_type = (school_data_complete_df[school_data_complete_df[\"reading_score\"] >= 70].groupby(\"type\")[\"Student ID\"].count() / type_df[\"Student ID\"].count()) * 100\n",
    "pct_both_type = (school_data_complete_df[(school_data_complete_df[\"math_score\"] >= 70) & (school_data_complete_df[\"reading_score\"] >= 70)].groupby(\"type\")[\"Student ID\"].count() / type_df[\"Student ID\"].count()) * 100\n",
    "\n",
    "type_summary_df = pd.DataFrame({\"Average Math Score\" : avg_math_type,\n",
    "                        \"Average Reading Score\" : avg_read_type,\n",
    "                        \"% Passed Math\" : pct_math_type,\n",
    "                        \"% Passed Reading\" : pct_read_type,\n",
    "                        \"% Overall Passed\" : pct_both_type})\n",
    "\n",
    "type_summary_df\n",
    "\n",
    "# Format the Data Frame\n",
    "type_summary_df[\"Average Math Score\"] = type_summary_df[\"Average Math Score\"].map(\"{:.3}\".format)\n",
    "type_summary_df[\"Average Reading Score\"] = type_summary_df[\"Average Reading Score\"].map(\"{:.3}\".format)\n",
    "type_summary_df[\"% Passed Math\"] = type_summary_df[\"% Passed Math\"].map(\"{:.3}\".format)\n",
    "type_summary_df[\"% Passed Reading\"] = type_summary_df[\"% Passed Reading\"].map(\"{:.3}\".format)\n",
    "type_summary_df[\"% Overall Passed\"] = type_summary_df[\"% Overall Passed\"].map(\"{:.3}\".format)\n",
    "type_summary_df"
   ]
  },
  {
   "cell_type": "code",
   "execution_count": null,
   "metadata": {},
   "outputs": [],
   "source": []
  }
 ],
 "metadata": {
  "anaconda-cloud": {},
  "kernel_info": {
   "name": "python3"
  },
  "kernelspec": {
   "name": "Python 3.8.3 64-bit ('Data_Analytics': conda)",
   "display_name": "Python 3.8.3 64-bit ('Data_Analytics': conda)",
   "metadata": {
    "interpreter": {
     "hash": "1f3cf684133e3fd48c1279272338c6e5a05b218a48143ab0ad5462d4b2236760"
    }
   }
  },
  "language_info": {
   "codemirror_mode": {
    "name": "ipython",
    "version": 3
   },
   "file_extension": ".py",
   "mimetype": "text/x-python",
   "name": "python",
   "nbconvert_exporter": "python",
   "pygments_lexer": "ipython3",
   "version": "3.8.3-final"
  },
  "latex_envs": {
   "LaTeX_envs_menu_present": true,
   "autoclose": false,
   "autocomplete": true,
   "bibliofile": "biblio.bib",
   "cite_by": "apalike",
   "current_citInitial": 1,
   "eqLabelWithNumbers": true,
   "eqNumInitial": 1,
   "hotkeys": {
    "equation": "Ctrl-E",
    "itemize": "Ctrl-I"
   },
   "labels_anchors": false,
   "latex_user_defs": false,
   "report_style_numbering": false,
   "user_envs_cfg": false
  },
  "nteract": {
   "version": "0.8.4"
  }
 },
 "nbformat": 4,
 "nbformat_minor": 1
}