{
 "cells": [
  {
   "cell_type": "code",
   "execution_count": 128,
   "metadata": {},
   "outputs": [
    {
     "output_type": "execute_result",
     "data": {
      "text/plain": [
       "   Student ID       student_name  ... reading_score math_score\n",
       "0           0       Paul Bradley  ...            66         79\n",
       "1           1       Victor Smith  ...            94         61\n",
       "2           2    Kevin Rodriguez  ...            90         60\n",
       "3           3  Dr. Richard Scott  ...            67         58\n",
       "4           4         Bonnie Ray  ...            97         84\n",
       "\n",
       "[5 rows x 7 columns]"
      ],
      "text/html": "<div>\n<style scoped>\n    .dataframe tbody tr th:only-of-type {\n        vertical-align: middle;\n    }\n\n    .dataframe tbody tr th {\n        vertical-align: top;\n    }\n\n    .dataframe thead th {\n        text-align: right;\n    }\n</style>\n<table border=\"1\" class=\"dataframe\">\n  <thead>\n    <tr style=\"text-align: right;\">\n      <th></th>\n      <th>Student ID</th>\n      <th>student_name</th>\n      <th>gender</th>\n      <th>grade</th>\n      <th>school_name</th>\n      <th>reading_score</th>\n      <th>math_score</th>\n    </tr>\n  </thead>\n  <tbody>\n    <tr>\n      <th>0</th>\n      <td>0</td>\n      <td>Paul Bradley</td>\n      <td>M</td>\n      <td>9th</td>\n      <td>Huang High School</td>\n      <td>66</td>\n      <td>79</td>\n    </tr>\n    <tr>\n      <th>1</th>\n      <td>1</td>\n      <td>Victor Smith</td>\n      <td>M</td>\n      <td>12th</td>\n      <td>Huang High School</td>\n      <td>94</td>\n      <td>61</td>\n    </tr>\n    <tr>\n      <th>2</th>\n      <td>2</td>\n      <td>Kevin Rodriguez</td>\n      <td>M</td>\n      <td>12th</td>\n      <td>Huang High School</td>\n      <td>90</td>\n      <td>60</td>\n    </tr>\n    <tr>\n      <th>3</th>\n      <td>3</td>\n      <td>Dr. Richard Scott</td>\n      <td>M</td>\n      <td>12th</td>\n      <td>Huang High School</td>\n      <td>67</td>\n      <td>58</td>\n    </tr>\n    <tr>\n      <th>4</th>\n      <td>4</td>\n      <td>Bonnie Ray</td>\n      <td>F</td>\n      <td>9th</td>\n      <td>Huang High School</td>\n      <td>97</td>\n      <td>84</td>\n    </tr>\n  </tbody>\n</table>\n</div>"
     },
     "metadata": {},
     "execution_count": 128
    }
   ],
   "source": [
    "# Dependencies and Setup\n",
    "import pandas as pd\n",
    "\n",
    "# File to Load (Create the path)\n",
    "school_csv = \"schools_complete.csv\"\n",
    "student_csv = \"students_complete.csv\"\n",
    "\n",
    "# Read School and Student Data File and store into Pandas DataFrames\n",
    "school_data_df = pd.read_csv(school_csv)\n",
    "student_data_df = pd.read_csv(student_csv)\n",
    "\n",
    "# Print out each of the csv files for viewing to analyze\n",
    "student_data_df.head()"
   ]
  },
  {
   "cell_type": "code",
   "execution_count": 129,
   "metadata": {},
   "outputs": [
    {
     "output_type": "execute_result",
     "data": {
      "text/plain": [
       "   School ID            school_name      type  size   budget\n",
       "0          0      Huang High School  District  2917  1910635\n",
       "1          1   Figueroa High School  District  2949  1884411\n",
       "2          2    Shelton High School   Charter  1761  1056600\n",
       "3          3  Hernandez High School  District  4635  3022020\n",
       "4          4    Griffin High School   Charter  1468   917500"
      ],
      "text/html": "<div>\n<style scoped>\n    .dataframe tbody tr th:only-of-type {\n        vertical-align: middle;\n    }\n\n    .dataframe tbody tr th {\n        vertical-align: top;\n    }\n\n    .dataframe thead th {\n        text-align: right;\n    }\n</style>\n<table border=\"1\" class=\"dataframe\">\n  <thead>\n    <tr style=\"text-align: right;\">\n      <th></th>\n      <th>School ID</th>\n      <th>school_name</th>\n      <th>type</th>\n      <th>size</th>\n      <th>budget</th>\n    </tr>\n  </thead>\n  <tbody>\n    <tr>\n      <th>0</th>\n      <td>0</td>\n      <td>Huang High School</td>\n      <td>District</td>\n      <td>2917</td>\n      <td>1910635</td>\n    </tr>\n    <tr>\n      <th>1</th>\n      <td>1</td>\n      <td>Figueroa High School</td>\n      <td>District</td>\n      <td>2949</td>\n      <td>1884411</td>\n    </tr>\n    <tr>\n      <th>2</th>\n      <td>2</td>\n      <td>Shelton High School</td>\n      <td>Charter</td>\n      <td>1761</td>\n      <td>1056600</td>\n    </tr>\n    <tr>\n      <th>3</th>\n      <td>3</td>\n      <td>Hernandez High School</td>\n      <td>District</td>\n      <td>4635</td>\n      <td>3022020</td>\n    </tr>\n    <tr>\n      <th>4</th>\n      <td>4</td>\n      <td>Griffin High School</td>\n      <td>Charter</td>\n      <td>1468</td>\n      <td>917500</td>\n    </tr>\n  </tbody>\n</table>\n</div>"
     },
     "metadata": {},
     "execution_count": 129
    }
   ],
   "source": [
    "# Print out each of the csv files for viewing to analyze\n",
    "school_data_df.head()"
   ]
  },
  {
   "cell_type": "code",
   "execution_count": 130,
   "metadata": {},
   "outputs": [
    {
     "output_type": "execute_result",
     "data": {
      "text/plain": [
       "   Student ID       student_name gender  ...      type  size   budget\n",
       "0           0       Paul Bradley      M  ...  District  2917  1910635\n",
       "1           1       Victor Smith      M  ...  District  2917  1910635\n",
       "2           2    Kevin Rodriguez      M  ...  District  2917  1910635\n",
       "3           3  Dr. Richard Scott      M  ...  District  2917  1910635\n",
       "4           4         Bonnie Ray      F  ...  District  2917  1910635\n",
       "\n",
       "[5 rows x 11 columns]"
      ],
      "text/html": "<div>\n<style scoped>\n    .dataframe tbody tr th:only-of-type {\n        vertical-align: middle;\n    }\n\n    .dataframe tbody tr th {\n        vertical-align: top;\n    }\n\n    .dataframe thead th {\n        text-align: right;\n    }\n</style>\n<table border=\"1\" class=\"dataframe\">\n  <thead>\n    <tr style=\"text-align: right;\">\n      <th></th>\n      <th>Student ID</th>\n      <th>student_name</th>\n      <th>gender</th>\n      <th>grade</th>\n      <th>school_name</th>\n      <th>reading_score</th>\n      <th>math_score</th>\n      <th>School ID</th>\n      <th>type</th>\n      <th>size</th>\n      <th>budget</th>\n    </tr>\n  </thead>\n  <tbody>\n    <tr>\n      <th>0</th>\n      <td>0</td>\n      <td>Paul Bradley</td>\n      <td>M</td>\n      <td>9th</td>\n      <td>Huang High School</td>\n      <td>66</td>\n      <td>79</td>\n      <td>0</td>\n      <td>District</td>\n      <td>2917</td>\n      <td>1910635</td>\n    </tr>\n    <tr>\n      <th>1</th>\n      <td>1</td>\n      <td>Victor Smith</td>\n      <td>M</td>\n      <td>12th</td>\n      <td>Huang High School</td>\n      <td>94</td>\n      <td>61</td>\n      <td>0</td>\n      <td>District</td>\n      <td>2917</td>\n      <td>1910635</td>\n    </tr>\n    <tr>\n      <th>2</th>\n      <td>2</td>\n      <td>Kevin Rodriguez</td>\n      <td>M</td>\n      <td>12th</td>\n      <td>Huang High School</td>\n      <td>90</td>\n      <td>60</td>\n      <td>0</td>\n      <td>District</td>\n      <td>2917</td>\n      <td>1910635</td>\n    </tr>\n    <tr>\n      <th>3</th>\n      <td>3</td>\n      <td>Dr. Richard Scott</td>\n      <td>M</td>\n      <td>12th</td>\n      <td>Huang High School</td>\n      <td>67</td>\n      <td>58</td>\n      <td>0</td>\n      <td>District</td>\n      <td>2917</td>\n      <td>1910635</td>\n    </tr>\n    <tr>\n      <th>4</th>\n      <td>4</td>\n      <td>Bonnie Ray</td>\n      <td>F</td>\n      <td>9th</td>\n      <td>Huang High School</td>\n      <td>97</td>\n      <td>84</td>\n      <td>0</td>\n      <td>District</td>\n      <td>2917</td>\n      <td>1910635</td>\n    </tr>\n  </tbody>\n</table>\n</div>"
     },
     "metadata": {},
     "execution_count": 130
    }
   ],
   "source": [
    "# Combine the data into a single dataset.  \n",
    "school_data_complete_df = pd.merge(student_data, school_data, how=\"left\", on=[\"school_name\"])\n",
    "school_data_complete_df.head()"
   ]
  },
  {
   "cell_type": "markdown",
   "metadata": {},
   "source": [
    "## District Summary\n",
    "\n",
    "* Calculate the total number of schools\n",
    "\n",
    "* Calculate the total number of students\n",
    "\n",
    "* Calculate the total budget\n",
    "\n",
    "* Calculate the average math score \n",
    "\n",
    "* Calculate the average reading score\n",
    "\n",
    "* Calculate the percentage of students with a passing math score (70 or greater)\n",
    "\n",
    "* Calculate the percentage of students with a passing reading score (70 or greater)\n",
    "\n",
    "* Calculate the percentage of students who passed math **and** reading (% Overall Passing)\n",
    "\n",
    "* Create a dataframe to hold the above results\n",
    "\n",
    "* Optional: give the displayed data cleaner formatting"
   ]
  },
  {
   "cell_type": "code",
   "execution_count": 148,
   "metadata": {},
   "outputs": [
    {
     "output_type": "execute_result",
     "data": {
      "text/plain": [
       "   Total Schools Total Students  ... % Passed Reading % Passed Both\n",
       "0             15         39,170  ...          85.8055       65.1723\n",
       "\n",
       "[1 rows x 8 columns]"
      ],
      "text/html": "<div>\n<style scoped>\n    .dataframe tbody tr th:only-of-type {\n        vertical-align: middle;\n    }\n\n    .dataframe tbody tr th {\n        vertical-align: top;\n    }\n\n    .dataframe thead th {\n        text-align: right;\n    }\n</style>\n<table border=\"1\" class=\"dataframe\">\n  <thead>\n    <tr style=\"text-align: right;\">\n      <th></th>\n      <th>Total Schools</th>\n      <th>Total Students</th>\n      <th>Total Budget</th>\n      <th>Average Math Score</th>\n      <th>Average Reading Score</th>\n      <th>% Passed Math</th>\n      <th>% Passed Reading</th>\n      <th>% Passed Both</th>\n    </tr>\n  </thead>\n  <tbody>\n    <tr>\n      <th>0</th>\n      <td>15</td>\n      <td>39,170</td>\n      <td>$24,649,428.00</td>\n      <td>78.98537</td>\n      <td>81.87784</td>\n      <td>74.9809</td>\n      <td>85.8055</td>\n      <td>65.1723</td>\n    </tr>\n  </tbody>\n</table>\n</div>"
     },
     "metadata": {},
     "execution_count": 148
    }
   ],
   "source": [
    "total_students = school_data_complete_df[\"student_name\"].count()\n",
    "total_schools = school_data_df[\"school_name\"].count()\n",
    "total_budget = school_data_df[\"budget\"].sum()\n",
    "avg_math = student_data_df[\"math_score\"].mean()\n",
    "avg_read = student_data_df[\"reading_score\"].mean()\n",
    "\n",
    "# Use loc to find how many students passed math and reading and both\n",
    "math_pass = (school_data_complete_df.loc[school_data_complete_df[\"math_score\"] >= 70, :])\n",
    "count_math = math_pass[\"Student ID\"].count()\n",
    "\n",
    "read_pass = (school_data_complete_df.loc[school_data_complete_df[\"reading_score\"] >= 70, :])\n",
    "count_read = read_pass[\"Student ID\"].count()\n",
    "\n",
    "both_pass = (school_data_complete_df.loc[(school_data_complete_df[\"math_score\"] >= 70) & (school_data_complete_df[\"reading_score\"] >= 70), :])\n",
    "count_both = both_pass [\"Student ID\"].count()\n",
    "\n",
    "# Now calculate the percentage of students that passed math/reading/both\n",
    "pct_math = (count_math / total_students) * 100\n",
    "pct_read = (count_read / total_students) * 100\n",
    "pct_both = (count_both / total_students) * 100\n",
    "\n",
    "#Print the summary results in a DataFrame using a summary dictionary\n",
    "summary_dicts = [{\"Total Schools\" : total_schools, \n",
    "                 \"Total Students\" : total_students,\n",
    "                 \"Total Budget\" : total_budget,\n",
    "                 \"Average Math Score\" : avg_math,\n",
    "                 \"Average Reading Score\" : avg_read,\n",
    "                 \"% Passed Math\" : pct_math,\n",
    "                 \"% Passed Reading\" : pct_read,\n",
    "                 \"% Passed Both\" : pct_both}]\n",
    "summary_df = pd.DataFrame(summary_dicts)\n",
    "\n",
    "# Format the Data Frame\n",
    "summary_df[\"Total Students\"] = summary_df[\"Total Students\"].map(\"{:,}\".format)\n",
    "summary_df[\"Total Budget\"] = summary_df[\"Total Budget\"].map(\"${:,.2f}\".format)\n",
    "summary_df[\"Average Math Score\"] = summary_df[\"Average Math Score\"].map(\"{:.5f}\".format)\n",
    "summary_df[\"Average Reading Score\"] = summary_df[\"Average Reading Score\"].map(\"{:.5f}\".format)\n",
    "summary_df[\"% Passed Math\"] = summary_df[\"% Passed Math\"].map(\"{:.6}\".format)\n",
    "summary_df[\"% Passed Reading\"] = summary_df[\"% Passed Reading\"].map(\"{:.6}\".format)\n",
    "summary_df[\"% Passed Both\"] = summary_df[\"% Passed Both\"].map(\"{:.6}\".format)\n",
    "summary_df"
   ]
  },
  {
   "cell_type": "markdown",
   "metadata": {},
   "source": [
    "## School Summary"
   ]
  },
  {
   "cell_type": "markdown",
   "metadata": {},
   "source": [
    "* Create an overview table that summarizes key metrics about each school, including:\n",
    "  * School Name\n",
    "  * School Type\n",
    "  * Total Students\n",
    "  * Total School Budget\n",
    "  * Per Student Budget\n",
    "  * Average Math Score\n",
    "  * Average Reading Score\n",
    "  * % Passing Math\n",
    "  * % Passing Reading\n",
    "  * % Overall Passing (The percentage of students that passed math **and** reading.)\n",
    "  \n",
    "* Create a dataframe to hold the above results"
   ]
  },
  {
   "cell_type": "code",
   "execution_count": 187,
   "metadata": {},
   "outputs": [
    {
     "output_type": "execute_result",
     "data": {
      "text/plain": [
       "                      School Type  ...  Average Reading Score\n",
       "school_name                        ...                       \n",
       "Bailey High School     [District]  ...              81.033963\n",
       "Cabrera High School     [Charter]  ...              83.975780\n",
       "Figueroa High School   [District]  ...              81.158020\n",
       "Ford High School       [District]  ...              80.746258\n",
       "Griffin High School     [Charter]  ...              83.816757\n",
       "Hernandez High School  [District]  ...              80.934412\n",
       "Holden High School      [Charter]  ...              83.814988\n",
       "Huang High School      [District]  ...              81.182722\n",
       "Johnson High School    [District]  ...              80.966394\n",
       "Pena High School        [Charter]  ...              84.044699\n",
       "Rodriguez High School  [District]  ...              80.744686\n",
       "Shelton High School     [Charter]  ...              83.725724\n",
       "Thomas High School      [Charter]  ...              83.848930\n",
       "Wilson High School      [Charter]  ...              83.989488\n",
       "Wright High School      [Charter]  ...              83.955000\n",
       "\n",
       "[15 rows x 6 columns]"
      ],
      "text/html": "<div>\n<style scoped>\n    .dataframe tbody tr th:only-of-type {\n        vertical-align: middle;\n    }\n\n    .dataframe tbody tr th {\n        vertical-align: top;\n    }\n\n    .dataframe thead th {\n        text-align: right;\n    }\n</style>\n<table border=\"1\" class=\"dataframe\">\n  <thead>\n    <tr style=\"text-align: right;\">\n      <th></th>\n      <th>School Type</th>\n      <th>Total Students</th>\n      <th>Total School Budget</th>\n      <th>Per Student Budget</th>\n      <th>Average Math Score</th>\n      <th>Average Reading Score</th>\n    </tr>\n    <tr>\n      <th>school_name</th>\n      <th></th>\n      <th></th>\n      <th></th>\n      <th></th>\n      <th></th>\n      <th></th>\n    </tr>\n  </thead>\n  <tbody>\n    <tr>\n      <th>Bailey High School</th>\n      <td>[District]</td>\n      <td>4976</td>\n      <td>15549641728</td>\n      <td>3124928.0</td>\n      <td>77.048432</td>\n      <td>81.033963</td>\n    </tr>\n    <tr>\n      <th>Cabrera High School</th>\n      <td>[Charter]</td>\n      <td>1858</td>\n      <td>2009159448</td>\n      <td>1081356.0</td>\n      <td>83.061895</td>\n      <td>83.975780</td>\n    </tr>\n    <tr>\n      <th>Figueroa High School</th>\n      <td>[District]</td>\n      <td>2949</td>\n      <td>5557128039</td>\n      <td>1884411.0</td>\n      <td>76.711767</td>\n      <td>81.158020</td>\n    </tr>\n    <tr>\n      <th>Ford High School</th>\n      <td>[District]</td>\n      <td>2739</td>\n      <td>4831365924</td>\n      <td>1763916.0</td>\n      <td>77.102592</td>\n      <td>80.746258</td>\n    </tr>\n    <tr>\n      <th>Griffin High School</th>\n      <td>[Charter]</td>\n      <td>1468</td>\n      <td>1346890000</td>\n      <td>917500.0</td>\n      <td>83.351499</td>\n      <td>83.816757</td>\n    </tr>\n    <tr>\n      <th>Hernandez High School</th>\n      <td>[District]</td>\n      <td>4635</td>\n      <td>14007062700</td>\n      <td>3022020.0</td>\n      <td>77.289752</td>\n      <td>80.934412</td>\n    </tr>\n    <tr>\n      <th>Holden High School</th>\n      <td>[Charter]</td>\n      <td>427</td>\n      <td>105933149</td>\n      <td>248087.0</td>\n      <td>83.803279</td>\n      <td>83.814988</td>\n    </tr>\n    <tr>\n      <th>Huang High School</th>\n      <td>[District]</td>\n      <td>2917</td>\n      <td>5573322295</td>\n      <td>1910635.0</td>\n      <td>76.629414</td>\n      <td>81.182722</td>\n    </tr>\n    <tr>\n      <th>Johnson High School</th>\n      <td>[District]</td>\n      <td>4761</td>\n      <td>14733628650</td>\n      <td>3094650.0</td>\n      <td>77.072464</td>\n      <td>80.966394</td>\n    </tr>\n    <tr>\n      <th>Pena High School</th>\n      <td>[Charter]</td>\n      <td>962</td>\n      <td>563595396</td>\n      <td>585858.0</td>\n      <td>83.839917</td>\n      <td>84.044699</td>\n    </tr>\n    <tr>\n      <th>Rodriguez High School</th>\n      <td>[District]</td>\n      <td>3999</td>\n      <td>10186904637</td>\n      <td>2547363.0</td>\n      <td>76.842711</td>\n      <td>80.744686</td>\n    </tr>\n    <tr>\n      <th>Shelton High School</th>\n      <td>[Charter]</td>\n      <td>1761</td>\n      <td>1860672600</td>\n      <td>1056600.0</td>\n      <td>83.359455</td>\n      <td>83.725724</td>\n    </tr>\n    <tr>\n      <th>Thomas High School</th>\n      <td>[Charter]</td>\n      <td>1635</td>\n      <td>1705517550</td>\n      <td>1043130.0</td>\n      <td>83.418349</td>\n      <td>83.848930</td>\n    </tr>\n    <tr>\n      <th>Wilson High School</th>\n      <td>[Charter]</td>\n      <td>2283</td>\n      <td>3012587442</td>\n      <td>1319574.0</td>\n      <td>83.274201</td>\n      <td>83.989488</td>\n    </tr>\n    <tr>\n      <th>Wright High School</th>\n      <td>[Charter]</td>\n      <td>1800</td>\n      <td>1888920000</td>\n      <td>1049400.0</td>\n      <td>83.682222</td>\n      <td>83.955000</td>\n    </tr>\n  </tbody>\n</table>\n</div>"
     },
     "metadata": {},
     "execution_count": 187
    }
   ],
   "source": [
    "# Use Group By to sort by the school name and then display\n",
    "school_summary_df = school_data_complete_df.groupby([\"school_name\"])\n",
    "school_summary_count = school_summary_df[\"student_name\"].count()\n",
    "school_summary_type = school_summary_df[\"type\"].unique()\n",
    "school_summary_budget = school_summary_df[\"budget\"].sum()\n",
    "school_summary_avg = school_summary_budget / school_summary_count\n",
    "school_summary_math = school_summary_df[\"math_score\"].mean()\n",
    "school_summary_read = school_summary_df[\"reading_score\"].mean()\n",
    "\n",
    "# # Use the loc function to find math scores greater than 70 at each school\n",
    "# school_summary_Bailey_math = school_data_complete_df.loc[(school_data_complete_df[\"math_score\"] >= 70) & (school_data_complete_df[\"school_name\"] == \"Bailey High School\")]\n",
    "# pct_Bailey_math = (school_summary_Bailey_math.count()) / school_summary_count\n",
    "\n",
    "# school_summary_Cabrera_math = school_data_complete_df.loc[(school_data_complete_df[\"math_score\"] >= 70) & (school_data_complete_df[\"school_name\"] == \"Cabrera High School\")]\n",
    "# pct_Cabrera_math = (school_summary_Cabrera_math.count()) / school_summary_count\n",
    "\n",
    "# school_summary_Figueroa_math = school_data_complete_df.loc[(school_data_complete_df[\"math_score\"] >= 70) & (school_data_complete_df[\"school_name\"] == \"Figueroa High School\")]\n",
    "# pct_Figueroa_math = (school_summary_Figueroa_math.count()) / school_summary_count\n",
    "\n",
    "# school_summary_Ford_math = school_data_complete_df.loc[(school_data_complete_df[\"math_score\"] >= 70) & (school_data_complete_df[\"school_name\"] == \"Ford High School\")]\n",
    "# pct_Ford_math = (school_summary_Ford_math.count()) / school_summary_count\n",
    "\n",
    "# school_summary_Griffin_math = school_data_complete_df.loc[(school_data_complete_df[\"math_score\"] >= 70) & (school_data_complete_df[\"school_name\"] == \"Griffin High School\")]\n",
    "# pct_Griffin_math = (school_summary_Griffin_math.count()) / school_summary_count\n",
    "\n",
    "# school_summary_Hernandez_math = school_data_complete_df.loc[(school_data_complete_df[\"math_score\"] >= 70) & (school_data_complete_df[\"school_name\"] == \"Hernandez High School\")]\n",
    "# pct_Hernandez_math = (school_summary_Hernandez_math.count()) / school_summary_count\n",
    "\n",
    "# school_summary_Holden_math = school_data_complete_df.loc[(school_data_complete_df[\"math_score\"] >= 70) & (school_data_complete_df[\"school_name\"] == \"Holden High School\")]\n",
    "# pct_Holden_math = (school_summary_Holden_math.count()) / school_summary_count\n",
    "\n",
    "# school_summary_Huang_math = school_data_complete_df.loc[(school_data_complete_df[\"math_score\"] >= 70) & (school_data_complete_df[\"school_name\"] == \"Huang High School\")]\n",
    "# pct_Huang_math = (school_summary_Huang_math.count()) / school_summary_count\n",
    "\n",
    "# school_summary_Johnson_math = school_data_complete_df.loc[(school_data_complete_df[\"math_score\"] >= 70) & (school_data_complete_df[\"school_name\"] == \"Johnson High School\")]\n",
    "# pct_Johnson_math = (school_summary_Johnson_math.count()) / school_summary_count\n",
    "\n",
    "# school_summary_Pena_math = school_data_complete_df.loc[(school_data_complete_df[\"math_score\"] >= 70) & (school_data_complete_df[\"school_name\"] == \"Pena High School\")]\n",
    "# pct_Pena_math = (school_summary_Pena_math.count()) / school_summary_count\n",
    "\n",
    "# school_summary_Rodriguez_math = school_data_complete_df.loc[(school_data_complete_df[\"math_score\"] >= 70) & (school_data_complete_df[\"school_name\"] == \"Rodriguez High School\")]\n",
    "# pct_Rodriguez_math = (school_summary_Rodriguez_math.count()) / school_summary_count\n",
    "\n",
    "# school_summary_Shelton_math = school_data_complete_df.loc[(school_data_complete_df[\"math_score\"] >= 70) & (school_data_complete_df[\"school_name\"] == \"Shelton High School\")]\n",
    "# pct_Shelton_math = (school_summary_Shelton_math.count()) / school_summary_count\n",
    "\n",
    "# school_summary_Thomas_math = school_data_complete_df.loc[(school_data_complete_df[\"math_score\"] >= 70) & (school_data_complete_df[\"school_name\"] == \"Thomas High School\")]\n",
    "# pct_Thomas_math = (school_summary_Thomas_math.count()) / school_summary_count\n",
    "\n",
    "# school_summary_Wilson_math = school_data_complete_df.loc[(school_data_complete_df[\"math_score\"] >= 70) & (school_data_complete_df[\"school_name\"] == \"Wilson High School\")]\n",
    "# pct_Wilson_math = (school_summary_Wilson_math.count()) / school_summary_count\n",
    "\n",
    "# school_summary_Wright_math = school_data_complete_df.loc[(school_data_complete_df[\"math_score\"] >= 70) & (school_data_complete_df[\"school_name\"] == \"Wright High School\")]\n",
    "# pct_Wright_math = (school_summary_Wright_math.count()) / school_summary_count\n",
    "\n",
    "# school_summary_pass_math = ({pct_Bailey_math, pct_Cabrera_math, pct_Figueroa_math, pct_Ford_math, pct_Griffin_math, pct_Hernandez_math, pct_Holden_math, pct_Huang_math, pct_Johnson_math, pct_Pena_math, pct_Rodriguez_math, pct_Shelton_math, pct_Thomas_math, pct_Wilson_math, pct_Wright_math})\n",
    "\n",
    "\n",
    "school_analysis_df = pd.DataFrame({\"School Type\": school_summary_type,\n",
    "                                   \"Total Students\": school_summary_count,\n",
    "                                   \"Total School Budget\": school_summary_budget,\n",
    "                                   \"Per Student Budget\": school_summary_avg,\n",
    "                                   \"Average Math Score\": school_summary_math,\n",
    "                                   \"Average Reading Score\": school_summary_read})\n",
    "                                #  \"% Passed Math\": school_summary_pass_math})\n",
    "                                #    \"% Passed Reading\": school_summary_pass_read,\n",
    "                                #    \"% Passed Both\": school_summary_pass_both,\"})\n",
    "school_analysis_df #FIXME still need to add in % Passed Math, % Passed Reading, % Passed Both"
   ]
  },
  {
   "cell_type": "markdown",
   "metadata": {},
   "source": [
    "## Top Performing Schools (By % Overall Passing)"
   ]
  },
  {
   "cell_type": "code",
   "execution_count": 193,
   "metadata": {
    "scrolled": true
   },
   "outputs": [
    {
     "output_type": "execute_result",
     "data": {
      "text/plain": [
       "                      School Type  ...  Average Reading Score\n",
       "school_name                        ...                       \n",
       "Bailey High School     [District]  ...              81.033963\n",
       "Johnson High School    [District]  ...              80.966394\n",
       "Hernandez High School  [District]  ...              80.934412\n",
       "Rodriguez High School  [District]  ...              80.744686\n",
       "Figueroa High School   [District]  ...              81.158020\n",
       "\n",
       "[5 rows x 6 columns]"
      ],
      "text/html": "<div>\n<style scoped>\n    .dataframe tbody tr th:only-of-type {\n        vertical-align: middle;\n    }\n\n    .dataframe tbody tr th {\n        vertical-align: top;\n    }\n\n    .dataframe thead th {\n        text-align: right;\n    }\n</style>\n<table border=\"1\" class=\"dataframe\">\n  <thead>\n    <tr style=\"text-align: right;\">\n      <th></th>\n      <th>School Type</th>\n      <th>Total Students</th>\n      <th>Total School Budget</th>\n      <th>Per Student Budget</th>\n      <th>Average Math Score</th>\n      <th>Average Reading Score</th>\n    </tr>\n    <tr>\n      <th>school_name</th>\n      <th></th>\n      <th></th>\n      <th></th>\n      <th></th>\n      <th></th>\n      <th></th>\n    </tr>\n  </thead>\n  <tbody>\n    <tr>\n      <th>Bailey High School</th>\n      <td>[District]</td>\n      <td>4976</td>\n      <td>15549641728</td>\n      <td>3124928.0</td>\n      <td>77.048432</td>\n      <td>81.033963</td>\n    </tr>\n    <tr>\n      <th>Johnson High School</th>\n      <td>[District]</td>\n      <td>4761</td>\n      <td>14733628650</td>\n      <td>3094650.0</td>\n      <td>77.072464</td>\n      <td>80.966394</td>\n    </tr>\n    <tr>\n      <th>Hernandez High School</th>\n      <td>[District]</td>\n      <td>4635</td>\n      <td>14007062700</td>\n      <td>3022020.0</td>\n      <td>77.289752</td>\n      <td>80.934412</td>\n    </tr>\n    <tr>\n      <th>Rodriguez High School</th>\n      <td>[District]</td>\n      <td>3999</td>\n      <td>10186904637</td>\n      <td>2547363.0</td>\n      <td>76.842711</td>\n      <td>80.744686</td>\n    </tr>\n    <tr>\n      <th>Figueroa High School</th>\n      <td>[District]</td>\n      <td>2949</td>\n      <td>5557128039</td>\n      <td>1884411.0</td>\n      <td>76.711767</td>\n      <td>81.158020</td>\n    </tr>\n  </tbody>\n</table>\n</div>"
     },
     "metadata": {},
     "execution_count": 193
    }
   ],
   "source": [
    "top_overall_df = school_analysis_df.sort_values(\"Total Students\", ascending=False)#FIXME we want to sort by % Overall Passing, just change from \"Total Students\" to \"% Overall Passing\"\n",
    "top_overall_df.head()"
   ]
  },
  {
   "cell_type": "markdown",
   "metadata": {},
   "source": [
    "## Bottom Performing Schools (By % Overall Passing)"
   ]
  },
  {
   "cell_type": "code",
   "execution_count": 194,
   "metadata": {},
   "outputs": [
    {
     "output_type": "execute_result",
     "data": {
      "text/plain": [
       "                    School Type  ...  Average Reading Score\n",
       "school_name                      ...                       \n",
       "Holden High School    [Charter]  ...              83.814988\n",
       "Pena High School      [Charter]  ...              84.044699\n",
       "Griffin High School   [Charter]  ...              83.816757\n",
       "Thomas High School    [Charter]  ...              83.848930\n",
       "Shelton High School   [Charter]  ...              83.725724\n",
       "\n",
       "[5 rows x 6 columns]"
      ],
      "text/html": "<div>\n<style scoped>\n    .dataframe tbody tr th:only-of-type {\n        vertical-align: middle;\n    }\n\n    .dataframe tbody tr th {\n        vertical-align: top;\n    }\n\n    .dataframe thead th {\n        text-align: right;\n    }\n</style>\n<table border=\"1\" class=\"dataframe\">\n  <thead>\n    <tr style=\"text-align: right;\">\n      <th></th>\n      <th>School Type</th>\n      <th>Total Students</th>\n      <th>Total School Budget</th>\n      <th>Per Student Budget</th>\n      <th>Average Math Score</th>\n      <th>Average Reading Score</th>\n    </tr>\n    <tr>\n      <th>school_name</th>\n      <th></th>\n      <th></th>\n      <th></th>\n      <th></th>\n      <th></th>\n      <th></th>\n    </tr>\n  </thead>\n  <tbody>\n    <tr>\n      <th>Holden High School</th>\n      <td>[Charter]</td>\n      <td>427</td>\n      <td>105933149</td>\n      <td>248087.0</td>\n      <td>83.803279</td>\n      <td>83.814988</td>\n    </tr>\n    <tr>\n      <th>Pena High School</th>\n      <td>[Charter]</td>\n      <td>962</td>\n      <td>563595396</td>\n      <td>585858.0</td>\n      <td>83.839917</td>\n      <td>84.044699</td>\n    </tr>\n    <tr>\n      <th>Griffin High School</th>\n      <td>[Charter]</td>\n      <td>1468</td>\n      <td>1346890000</td>\n      <td>917500.0</td>\n      <td>83.351499</td>\n      <td>83.816757</td>\n    </tr>\n    <tr>\n      <th>Thomas High School</th>\n      <td>[Charter]</td>\n      <td>1635</td>\n      <td>1705517550</td>\n      <td>1043130.0</td>\n      <td>83.418349</td>\n      <td>83.848930</td>\n    </tr>\n    <tr>\n      <th>Shelton High School</th>\n      <td>[Charter]</td>\n      <td>1761</td>\n      <td>1860672600</td>\n      <td>1056600.0</td>\n      <td>83.359455</td>\n      <td>83.725724</td>\n    </tr>\n  </tbody>\n</table>\n</div>"
     },
     "metadata": {},
     "execution_count": 194
    }
   ],
   "source": [
    "bottom_overall_df = school_analysis_df.sort_values(\"Total Students\", ascending=True)#FIXME we want to sort by % Overall Passing, we need to change from \"Total Students\" to \"% Overall Passing\"\n",
    "bottom_overall_df.head()"
   ]
  },
  {
   "cell_type": "markdown",
   "metadata": {
    "collapsed": true
   },
   "source": [
    "## Math Scores by Grade"
   ]
  },
  {
   "cell_type": "markdown",
   "metadata": {},
   "source": [
    "* Create a table that lists the average Reading Score for students of each grade level (9th, 10th, 11th, 12th) at each school.\n",
    "\n",
    "  * Create a pandas series for each grade. Hint: use a conditional statement.\n",
    "  \n",
    "  * Group each series by school\n",
    "  \n",
    "  * Combine the series into a dataframe\n",
    "  \n",
    "  * Optional: give the displayed data cleaner formatting"
   ]
  },
  {
   "cell_type": "code",
   "execution_count": 12,
   "metadata": {},
   "outputs": [
    {
     "data": {
      "text/html": [
       "<div>\n",
       "<style scoped>\n",
       "    .dataframe tbody tr th:only-of-type {\n",
       "        vertical-align: middle;\n",
       "    }\n",
       "\n",
       "    .dataframe tbody tr th {\n",
       "        vertical-align: top;\n",
       "    }\n",
       "\n",
       "    .dataframe thead th {\n",
       "        text-align: right;\n",
       "    }\n",
       "</style>\n",
       "<table border=\"1\" class=\"dataframe\">\n",
       "  <thead>\n",
       "    <tr style=\"text-align: right;\">\n",
       "      <th></th>\n",
       "      <th>9th</th>\n",
       "      <th>10th</th>\n",
       "      <th>11th</th>\n",
       "      <th>12th</th>\n",
       "    </tr>\n",
       "  </thead>\n",
       "  <tbody>\n",
       "    <tr>\n",
       "      <th>Bailey High School</th>\n",
       "      <td>77.083676</td>\n",
       "      <td>76.996772</td>\n",
       "      <td>77.515588</td>\n",
       "      <td>76.492218</td>\n",
       "    </tr>\n",
       "    <tr>\n",
       "      <th>Cabrera High School</th>\n",
       "      <td>83.094697</td>\n",
       "      <td>83.154506</td>\n",
       "      <td>82.765560</td>\n",
       "      <td>83.277487</td>\n",
       "    </tr>\n",
       "    <tr>\n",
       "      <th>Figueroa High School</th>\n",
       "      <td>76.403037</td>\n",
       "      <td>76.539974</td>\n",
       "      <td>76.884344</td>\n",
       "      <td>77.151369</td>\n",
       "    </tr>\n",
       "    <tr>\n",
       "      <th>Ford High School</th>\n",
       "      <td>77.361345</td>\n",
       "      <td>77.672316</td>\n",
       "      <td>76.918058</td>\n",
       "      <td>76.179963</td>\n",
       "    </tr>\n",
       "    <tr>\n",
       "      <th>Griffin High School</th>\n",
       "      <td>82.044010</td>\n",
       "      <td>84.229064</td>\n",
       "      <td>83.842105</td>\n",
       "      <td>83.356164</td>\n",
       "    </tr>\n",
       "    <tr>\n",
       "      <th>Hernandez High School</th>\n",
       "      <td>77.438495</td>\n",
       "      <td>77.337408</td>\n",
       "      <td>77.136029</td>\n",
       "      <td>77.186567</td>\n",
       "    </tr>\n",
       "    <tr>\n",
       "      <th>Holden High School</th>\n",
       "      <td>83.787402</td>\n",
       "      <td>83.429825</td>\n",
       "      <td>85.000000</td>\n",
       "      <td>82.855422</td>\n",
       "    </tr>\n",
       "    <tr>\n",
       "      <th>Huang High School</th>\n",
       "      <td>77.027251</td>\n",
       "      <td>75.908735</td>\n",
       "      <td>76.446602</td>\n",
       "      <td>77.225641</td>\n",
       "    </tr>\n",
       "    <tr>\n",
       "      <th>Johnson High School</th>\n",
       "      <td>77.187857</td>\n",
       "      <td>76.691117</td>\n",
       "      <td>77.491653</td>\n",
       "      <td>76.863248</td>\n",
       "    </tr>\n",
       "    <tr>\n",
       "      <th>Pena High School</th>\n",
       "      <td>83.625455</td>\n",
       "      <td>83.372000</td>\n",
       "      <td>84.328125</td>\n",
       "      <td>84.121547</td>\n",
       "    </tr>\n",
       "    <tr>\n",
       "      <th>Rodriguez High School</th>\n",
       "      <td>76.859966</td>\n",
       "      <td>76.612500</td>\n",
       "      <td>76.395626</td>\n",
       "      <td>77.690748</td>\n",
       "    </tr>\n",
       "    <tr>\n",
       "      <th>Shelton High School</th>\n",
       "      <td>83.420755</td>\n",
       "      <td>82.917411</td>\n",
       "      <td>83.383495</td>\n",
       "      <td>83.778976</td>\n",
       "    </tr>\n",
       "    <tr>\n",
       "      <th>Thomas High School</th>\n",
       "      <td>83.590022</td>\n",
       "      <td>83.087886</td>\n",
       "      <td>83.498795</td>\n",
       "      <td>83.497041</td>\n",
       "    </tr>\n",
       "    <tr>\n",
       "      <th>Wilson High School</th>\n",
       "      <td>83.085578</td>\n",
       "      <td>83.724422</td>\n",
       "      <td>83.195326</td>\n",
       "      <td>83.035794</td>\n",
       "    </tr>\n",
       "    <tr>\n",
       "      <th>Wright High School</th>\n",
       "      <td>83.264706</td>\n",
       "      <td>84.010288</td>\n",
       "      <td>83.836782</td>\n",
       "      <td>83.644986</td>\n",
       "    </tr>\n",
       "  </tbody>\n",
       "</table>\n",
       "</div>"
      ],
      "text/plain": [
       "                             9th       10th       11th       12th\n",
       "Bailey High School     77.083676  76.996772  77.515588  76.492218\n",
       "Cabrera High School    83.094697  83.154506  82.765560  83.277487\n",
       "Figueroa High School   76.403037  76.539974  76.884344  77.151369\n",
       "Ford High School       77.361345  77.672316  76.918058  76.179963\n",
       "Griffin High School    82.044010  84.229064  83.842105  83.356164\n",
       "Hernandez High School  77.438495  77.337408  77.136029  77.186567\n",
       "Holden High School     83.787402  83.429825  85.000000  82.855422\n",
       "Huang High School      77.027251  75.908735  76.446602  77.225641\n",
       "Johnson High School    77.187857  76.691117  77.491653  76.863248\n",
       "Pena High School       83.625455  83.372000  84.328125  84.121547\n",
       "Rodriguez High School  76.859966  76.612500  76.395626  77.690748\n",
       "Shelton High School    83.420755  82.917411  83.383495  83.778976\n",
       "Thomas High School     83.590022  83.087886  83.498795  83.497041\n",
       "Wilson High School     83.085578  83.724422  83.195326  83.035794\n",
       "Wright High School     83.264706  84.010288  83.836782  83.644986"
      ]
     },
     "execution_count": 12,
     "metadata": {},
     "output_type": "execute_result"
    }
   ],
   "source": []
  },
  {
   "cell_type": "markdown",
   "metadata": {},
   "source": [
    "## Reading Score by Grade "
   ]
  },
  {
   "cell_type": "markdown",
   "metadata": {},
   "source": [
    "* Perform the same operations as above for reading scores"
   ]
  },
  {
   "cell_type": "code",
   "execution_count": 13,
   "metadata": {},
   "outputs": [
    {
     "data": {
      "text/html": [
       "<div>\n",
       "<style scoped>\n",
       "    .dataframe tbody tr th:only-of-type {\n",
       "        vertical-align: middle;\n",
       "    }\n",
       "\n",
       "    .dataframe tbody tr th {\n",
       "        vertical-align: top;\n",
       "    }\n",
       "\n",
       "    .dataframe thead th {\n",
       "        text-align: right;\n",
       "    }\n",
       "</style>\n",
       "<table border=\"1\" class=\"dataframe\">\n",
       "  <thead>\n",
       "    <tr style=\"text-align: right;\">\n",
       "      <th></th>\n",
       "      <th>9th</th>\n",
       "      <th>10th</th>\n",
       "      <th>11th</th>\n",
       "      <th>12th</th>\n",
       "    </tr>\n",
       "  </thead>\n",
       "  <tbody>\n",
       "    <tr>\n",
       "      <th>Bailey High School</th>\n",
       "      <td>81.303155</td>\n",
       "      <td>80.907183</td>\n",
       "      <td>80.945643</td>\n",
       "      <td>80.912451</td>\n",
       "    </tr>\n",
       "    <tr>\n",
       "      <th>Cabrera High School</th>\n",
       "      <td>83.676136</td>\n",
       "      <td>84.253219</td>\n",
       "      <td>83.788382</td>\n",
       "      <td>84.287958</td>\n",
       "    </tr>\n",
       "    <tr>\n",
       "      <th>Figueroa High School</th>\n",
       "      <td>81.198598</td>\n",
       "      <td>81.408912</td>\n",
       "      <td>80.640339</td>\n",
       "      <td>81.384863</td>\n",
       "    </tr>\n",
       "    <tr>\n",
       "      <th>Ford High School</th>\n",
       "      <td>80.632653</td>\n",
       "      <td>81.262712</td>\n",
       "      <td>80.403642</td>\n",
       "      <td>80.662338</td>\n",
       "    </tr>\n",
       "    <tr>\n",
       "      <th>Griffin High School</th>\n",
       "      <td>83.369193</td>\n",
       "      <td>83.706897</td>\n",
       "      <td>84.288089</td>\n",
       "      <td>84.013699</td>\n",
       "    </tr>\n",
       "    <tr>\n",
       "      <th>Hernandez High School</th>\n",
       "      <td>80.866860</td>\n",
       "      <td>80.660147</td>\n",
       "      <td>81.396140</td>\n",
       "      <td>80.857143</td>\n",
       "    </tr>\n",
       "    <tr>\n",
       "      <th>Holden High School</th>\n",
       "      <td>83.677165</td>\n",
       "      <td>83.324561</td>\n",
       "      <td>83.815534</td>\n",
       "      <td>84.698795</td>\n",
       "    </tr>\n",
       "    <tr>\n",
       "      <th>Huang High School</th>\n",
       "      <td>81.290284</td>\n",
       "      <td>81.512386</td>\n",
       "      <td>81.417476</td>\n",
       "      <td>80.305983</td>\n",
       "    </tr>\n",
       "    <tr>\n",
       "      <th>Johnson High School</th>\n",
       "      <td>81.260714</td>\n",
       "      <td>80.773431</td>\n",
       "      <td>80.616027</td>\n",
       "      <td>81.227564</td>\n",
       "    </tr>\n",
       "    <tr>\n",
       "      <th>Pena High School</th>\n",
       "      <td>83.807273</td>\n",
       "      <td>83.612000</td>\n",
       "      <td>84.335938</td>\n",
       "      <td>84.591160</td>\n",
       "    </tr>\n",
       "    <tr>\n",
       "      <th>Rodriguez High School</th>\n",
       "      <td>80.993127</td>\n",
       "      <td>80.629808</td>\n",
       "      <td>80.864811</td>\n",
       "      <td>80.376426</td>\n",
       "    </tr>\n",
       "    <tr>\n",
       "      <th>Shelton High School</th>\n",
       "      <td>84.122642</td>\n",
       "      <td>83.441964</td>\n",
       "      <td>84.373786</td>\n",
       "      <td>82.781671</td>\n",
       "    </tr>\n",
       "    <tr>\n",
       "      <th>Thomas High School</th>\n",
       "      <td>83.728850</td>\n",
       "      <td>84.254157</td>\n",
       "      <td>83.585542</td>\n",
       "      <td>83.831361</td>\n",
       "    </tr>\n",
       "    <tr>\n",
       "      <th>Wilson High School</th>\n",
       "      <td>83.939778</td>\n",
       "      <td>84.021452</td>\n",
       "      <td>83.764608</td>\n",
       "      <td>84.317673</td>\n",
       "    </tr>\n",
       "    <tr>\n",
       "      <th>Wright High School</th>\n",
       "      <td>83.833333</td>\n",
       "      <td>83.812757</td>\n",
       "      <td>84.156322</td>\n",
       "      <td>84.073171</td>\n",
       "    </tr>\n",
       "  </tbody>\n",
       "</table>\n",
       "</div>"
      ],
      "text/plain": [
       "                             9th       10th       11th       12th\n",
       "Bailey High School     81.303155  80.907183  80.945643  80.912451\n",
       "Cabrera High School    83.676136  84.253219  83.788382  84.287958\n",
       "Figueroa High School   81.198598  81.408912  80.640339  81.384863\n",
       "Ford High School       80.632653  81.262712  80.403642  80.662338\n",
       "Griffin High School    83.369193  83.706897  84.288089  84.013699\n",
       "Hernandez High School  80.866860  80.660147  81.396140  80.857143\n",
       "Holden High School     83.677165  83.324561  83.815534  84.698795\n",
       "Huang High School      81.290284  81.512386  81.417476  80.305983\n",
       "Johnson High School    81.260714  80.773431  80.616027  81.227564\n",
       "Pena High School       83.807273  83.612000  84.335938  84.591160\n",
       "Rodriguez High School  80.993127  80.629808  80.864811  80.376426\n",
       "Shelton High School    84.122642  83.441964  84.373786  82.781671\n",
       "Thomas High School     83.728850  84.254157  83.585542  83.831361\n",
       "Wilson High School     83.939778  84.021452  83.764608  84.317673\n",
       "Wright High School     83.833333  83.812757  84.156322  84.073171"
      ]
     },
     "execution_count": 13,
     "metadata": {},
     "output_type": "execute_result"
    }
   ],
   "source": []
  },
  {
   "cell_type": "markdown",
   "metadata": {},
   "source": [
    "## Scores by School Spending"
   ]
  },
  {
   "cell_type": "markdown",
   "metadata": {},
   "source": [
    "* Create a table that breaks down school performances based on average Spending Ranges (Per Student). Use 4 reasonable bins to group school spending. Include in the table each of the following:\n",
    "  * Average Math Score\n",
    "  * Average Reading Score\n",
    "  * % Passing Math\n",
    "  * % Passing Reading\n",
    "  * Overall Passing Rate (Average of the above two)"
   ]
  },
  {
   "cell_type": "code",
   "execution_count": 18,
   "metadata": {},
   "outputs": [
    {
     "data": {
      "text/html": [
       "<div>\n",
       "<style scoped>\n",
       "    .dataframe tbody tr th:only-of-type {\n",
       "        vertical-align: middle;\n",
       "    }\n",
       "\n",
       "    .dataframe tbody tr th {\n",
       "        vertical-align: top;\n",
       "    }\n",
       "\n",
       "    .dataframe thead th {\n",
       "        text-align: right;\n",
       "    }\n",
       "</style>\n",
       "<table border=\"1\" class=\"dataframe\">\n",
       "  <thead>\n",
       "    <tr style=\"text-align: right;\">\n",
       "      <th></th>\n",
       "      <th>Average Math Score</th>\n",
       "      <th>Average Reading Score</th>\n",
       "      <th>% Passing Math</th>\n",
       "      <th>% Passing Reading</th>\n",
       "      <th>% Overall Passing</th>\n",
       "    </tr>\n",
       "    <tr>\n",
       "      <th>Spending Ranges (Per Student)</th>\n",
       "      <th></th>\n",
       "      <th></th>\n",
       "      <th></th>\n",
       "      <th></th>\n",
       "      <th></th>\n",
       "    </tr>\n",
       "  </thead>\n",
       "  <tbody>\n",
       "    <tr>\n",
       "      <th>&lt;$584</th>\n",
       "      <td>83.46</td>\n",
       "      <td>83.93</td>\n",
       "      <td>93.46</td>\n",
       "      <td>96.61</td>\n",
       "      <td>90.37</td>\n",
       "    </tr>\n",
       "    <tr>\n",
       "      <th>$585-629</th>\n",
       "      <td>81.90</td>\n",
       "      <td>83.16</td>\n",
       "      <td>87.13</td>\n",
       "      <td>92.72</td>\n",
       "      <td>81.42</td>\n",
       "    </tr>\n",
       "    <tr>\n",
       "      <th>$630-644</th>\n",
       "      <td>78.52</td>\n",
       "      <td>81.62</td>\n",
       "      <td>73.48</td>\n",
       "      <td>84.39</td>\n",
       "      <td>62.86</td>\n",
       "    </tr>\n",
       "    <tr>\n",
       "      <th>$645-675</th>\n",
       "      <td>77.00</td>\n",
       "      <td>81.03</td>\n",
       "      <td>66.16</td>\n",
       "      <td>81.13</td>\n",
       "      <td>53.53</td>\n",
       "    </tr>\n",
       "  </tbody>\n",
       "</table>\n",
       "</div>"
      ],
      "text/plain": [
       "                               Average Math Score  Average Reading Score  \\\n",
       "Spending Ranges (Per Student)                                              \n",
       "<$584                                       83.46                  83.93   \n",
       "$585-629                                    81.90                  83.16   \n",
       "$630-644                                    78.52                  81.62   \n",
       "$645-675                                    77.00                  81.03   \n",
       "\n",
       "                               % Passing Math  % Passing Reading  \\\n",
       "Spending Ranges (Per Student)                                      \n",
       "<$584                                   93.46              96.61   \n",
       "$585-629                                87.13              92.72   \n",
       "$630-644                                73.48              84.39   \n",
       "$645-675                                66.16              81.13   \n",
       "\n",
       "                               % Overall Passing  \n",
       "Spending Ranges (Per Student)                     \n",
       "<$584                                      90.37  \n",
       "$585-629                                   81.42  \n",
       "$630-644                                   62.86  \n",
       "$645-675                                   53.53  "
      ]
     },
     "execution_count": 18,
     "metadata": {},
     "output_type": "execute_result"
    }
   ],
   "source": []
  },
  {
   "cell_type": "markdown",
   "metadata": {},
   "source": [
    "## Scores by School Size"
   ]
  },
  {
   "cell_type": "markdown",
   "metadata": {},
   "source": [
    "* Perform the same operations as above, based on school size."
   ]
  },
  {
   "cell_type": "code",
   "execution_count": 22,
   "metadata": {
    "scrolled": true
   },
   "outputs": [
    {
     "data": {
      "text/html": [
       "<div>\n",
       "<style scoped>\n",
       "    .dataframe tbody tr th:only-of-type {\n",
       "        vertical-align: middle;\n",
       "    }\n",
       "\n",
       "    .dataframe tbody tr th {\n",
       "        vertical-align: top;\n",
       "    }\n",
       "\n",
       "    .dataframe thead th {\n",
       "        text-align: right;\n",
       "    }\n",
       "</style>\n",
       "<table border=\"1\" class=\"dataframe\">\n",
       "  <thead>\n",
       "    <tr style=\"text-align: right;\">\n",
       "      <th></th>\n",
       "      <th>Average Math Score</th>\n",
       "      <th>Average Reading Score</th>\n",
       "      <th>% Passing Math</th>\n",
       "      <th>% Passing Reading</th>\n",
       "      <th>% Overall Passing</th>\n",
       "    </tr>\n",
       "    <tr>\n",
       "      <th>School Size</th>\n",
       "      <th></th>\n",
       "      <th></th>\n",
       "      <th></th>\n",
       "      <th></th>\n",
       "      <th></th>\n",
       "    </tr>\n",
       "  </thead>\n",
       "  <tbody>\n",
       "    <tr>\n",
       "      <th>Small (&lt;1000)</th>\n",
       "      <td>83.821598</td>\n",
       "      <td>83.929843</td>\n",
       "      <td>93.550225</td>\n",
       "      <td>96.099437</td>\n",
       "      <td>89.883853</td>\n",
       "    </tr>\n",
       "    <tr>\n",
       "      <th>Medium (1000-2000)</th>\n",
       "      <td>83.374684</td>\n",
       "      <td>83.864438</td>\n",
       "      <td>93.599695</td>\n",
       "      <td>96.790680</td>\n",
       "      <td>90.621535</td>\n",
       "    </tr>\n",
       "    <tr>\n",
       "      <th>Large (2000-5000)</th>\n",
       "      <td>77.746417</td>\n",
       "      <td>81.344493</td>\n",
       "      <td>69.963361</td>\n",
       "      <td>82.766634</td>\n",
       "      <td>58.286003</td>\n",
       "    </tr>\n",
       "  </tbody>\n",
       "</table>\n",
       "</div>"
      ],
      "text/plain": [
       "                    Average Math Score  Average Reading Score  % Passing Math  \\\n",
       "School Size                                                                     \n",
       "Small (<1000)                83.821598              83.929843       93.550225   \n",
       "Medium (1000-2000)           83.374684              83.864438       93.599695   \n",
       "Large (2000-5000)            77.746417              81.344493       69.963361   \n",
       "\n",
       "                    % Passing Reading  % Overall Passing  \n",
       "School Size                                               \n",
       "Small (<1000)               96.099437          89.883853  \n",
       "Medium (1000-2000)          96.790680          90.621535  \n",
       "Large (2000-5000)           82.766634          58.286003  "
      ]
     },
     "execution_count": 22,
     "metadata": {},
     "output_type": "execute_result"
    }
   ],
   "source": []
  },
  {
   "cell_type": "markdown",
   "metadata": {},
   "source": [
    "## Scores by School Type"
   ]
  },
  {
   "cell_type": "markdown",
   "metadata": {},
   "source": [
    "* Perform the same operations as above, based on school type"
   ]
  },
  {
   "cell_type": "code",
   "execution_count": 24,
   "metadata": {},
   "outputs": [
    {
     "data": {
      "text/html": [
       "<div>\n",
       "<style scoped>\n",
       "    .dataframe tbody tr th:only-of-type {\n",
       "        vertical-align: middle;\n",
       "    }\n",
       "\n",
       "    .dataframe tbody tr th {\n",
       "        vertical-align: top;\n",
       "    }\n",
       "\n",
       "    .dataframe thead th {\n",
       "        text-align: right;\n",
       "    }\n",
       "</style>\n",
       "<table border=\"1\" class=\"dataframe\">\n",
       "  <thead>\n",
       "    <tr style=\"text-align: right;\">\n",
       "      <th></th>\n",
       "      <th>Average Math Score</th>\n",
       "      <th>Average Reading Score</th>\n",
       "      <th>% Passing Math</th>\n",
       "      <th>% Passing Reading</th>\n",
       "      <th>% Overall Passing</th>\n",
       "    </tr>\n",
       "    <tr>\n",
       "      <th>School Type</th>\n",
       "      <th></th>\n",
       "      <th></th>\n",
       "      <th></th>\n",
       "      <th></th>\n",
       "      <th></th>\n",
       "    </tr>\n",
       "  </thead>\n",
       "  <tbody>\n",
       "    <tr>\n",
       "      <th>Charter</th>\n",
       "      <td>83.473852</td>\n",
       "      <td>83.896421</td>\n",
       "      <td>93.620830</td>\n",
       "      <td>96.586489</td>\n",
       "      <td>90.432244</td>\n",
       "    </tr>\n",
       "    <tr>\n",
       "      <th>District</th>\n",
       "      <td>76.956733</td>\n",
       "      <td>80.966636</td>\n",
       "      <td>66.548453</td>\n",
       "      <td>80.799062</td>\n",
       "      <td>53.672208</td>\n",
       "    </tr>\n",
       "  </tbody>\n",
       "</table>\n",
       "</div>"
      ],
      "text/plain": [
       "             Average Math Score  Average Reading Score  % Passing Math  \\\n",
       "School Type                                                              \n",
       "Charter               83.473852              83.896421       93.620830   \n",
       "District              76.956733              80.966636       66.548453   \n",
       "\n",
       "             % Passing Reading  % Overall Passing  \n",
       "School Type                                        \n",
       "Charter              96.586489          90.432244  \n",
       "District             80.799062          53.672208  "
      ]
     },
     "execution_count": 24,
     "metadata": {},
     "output_type": "execute_result"
    }
   ],
   "source": []
  },
  {
   "cell_type": "code",
   "execution_count": null,
   "metadata": {},
   "outputs": [],
   "source": []
  }
 ],
 "metadata": {
  "anaconda-cloud": {},
  "kernel_info": {
   "name": "python3"
  },
  "kernelspec": {
   "name": "Python 3.8.3 64-bit ('Data_Analytics': conda)",
   "display_name": "Python 3.8.3 64-bit ('Data_Analytics': conda)",
   "metadata": {
    "interpreter": {
     "hash": "1f3cf684133e3fd48c1279272338c6e5a05b218a48143ab0ad5462d4b2236760"
    }
   }
  },
  "language_info": {
   "codemirror_mode": {
    "name": "ipython",
    "version": 3
   },
   "file_extension": ".py",
   "mimetype": "text/x-python",
   "name": "python",
   "nbconvert_exporter": "python",
   "pygments_lexer": "ipython3",
   "version": "3.8.3-final"
  },
  "latex_envs": {
   "LaTeX_envs_menu_present": true,
   "autoclose": false,
   "autocomplete": true,
   "bibliofile": "biblio.bib",
   "cite_by": "apalike",
   "current_citInitial": 1,
   "eqLabelWithNumbers": true,
   "eqNumInitial": 1,
   "hotkeys": {
    "equation": "Ctrl-E",
    "itemize": "Ctrl-I"
   },
   "labels_anchors": false,
   "latex_user_defs": false,
   "report_style_numbering": false,
   "user_envs_cfg": false
  },
  "nteract": {
   "version": "0.8.4"
  }
 },
 "nbformat": 4,
 "nbformat_minor": 1
}